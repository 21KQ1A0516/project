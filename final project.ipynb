{
 "cells": [
  {
   "cell_type": "markdown",
   "id": "553e1a20-379b-46cc-87a4-6ded4d368149",
   "metadata": {},
   "source": [
    "## Predicting Company Profit Based on Expenditure and State Information"
   ]
  },
  {
   "cell_type": "markdown",
   "id": "8bfa1bc3-d2a9-42d7-9922-1c30dfe49e24",
   "metadata": {},
   "source": [
    "### Problem Statement:"
   ]
  },
  {
   "cell_type": "markdown",
   "id": "5cb38efb-b534-4bd0-be3b-e2d850dd27ea",
   "metadata": {},
   "source": [
    "##### You have been provided with a dataset containing information about Productivity,Management,Promotions Expenditures,state and profit.Yyour task is to analyze the relationship between the profit an  expenditure .Using simple regression,you aim to bulid a predicitive mode to estimate the Predicting Company Profit Based on Expenditure and State Informatio"
   ]
  },
  {
   "cell_type": "markdown",
   "id": "46ffe488-cc88-4322-af34-fa4cdf3f9735",
   "metadata": {},
   "source": [
    "### Objective:"
   ]
  },
  {
   "cell_type": "markdown",
   "id": "07ffdf9d-0b0d-4628-9f62-e6f6ccdac732",
   "metadata": {
    "editable": true,
    "slideshow": {
     "slide_type": ""
    },
    "tags": []
   },
   "source": [
    "##### To simplify the data for building a predictive model aimed at forecasting a company's profit based on its expenditures in productivity, management, and promotions, as well as its state of operationn"
   ]
  },
  {
   "cell_type": "markdown",
   "id": "c23888fa-0148-4a3c-a2e6-408b49580410",
   "metadata": {},
   "source": [
    "### Dataset description:"
   ]
  },
  {
   "cell_type": "raw",
   "id": "4ff1b7f7-6180-4799-8edd-5656cba9fca8",
   "metadata": {},
   "source": [
    "The dataset consists of the following columns:\n",
    "Productivity_Exp : Amount spent on productivity-related expenses (in thousands of dollars).\n",
    "Management_Exp : Amount spent on management-related expenses (in thousands of dollars).\n",
    "Promotions_Exp : Amount spent on promotional activities (in thousands of dollars).\n",
    "State : The state in which the company operates.\n",
    "Profit : The profit of the company (in thousands of dollars).\n",
    "\r\n"
   ]
  },
  {
   "cell_type": "markdown",
   "id": "5e7582ba-e46a-4219-acaf-d18829ae2a48",
   "metadata": {},
   "source": [
    "#### Importing the libraries"
   ]
  },
  {
   "cell_type": "code",
   "execution_count": 128,
   "id": "9d847816-0b8d-4198-8a26-ab18323e730f",
   "metadata": {},
   "outputs": [],
   "source": [
    "import pandas as pd\n",
    "import matplotlib.pyplot as plt\n",
    "import seaborn as sns\n",
    "import warnings\n",
    "warnings.filterwarnings('ignore')"
   ]
  },
  {
   "cell_type": "markdown",
   "id": "4c028664-0895-4539-8644-4c15540980ae",
   "metadata": {},
   "source": [
    "#### Import the dataset"
   ]
  },
  {
   "cell_type": "code",
   "execution_count": 129,
   "id": "5d8b8f37-d841-43b5-9ba2-94172d06455c",
   "metadata": {},
   "outputs": [
    {
     "data": {
      "text/html": [
       "<div>\n",
       "<style scoped>\n",
       "    .dataframe tbody tr th:only-of-type {\n",
       "        vertical-align: middle;\n",
       "    }\n",
       "\n",
       "    .dataframe tbody tr th {\n",
       "        vertical-align: top;\n",
       "    }\n",
       "\n",
       "    .dataframe thead th {\n",
       "        text-align: right;\n",
       "    }\n",
       "</style>\n",
       "<table border=\"1\" class=\"dataframe\">\n",
       "  <thead>\n",
       "    <tr style=\"text-align: right;\">\n",
       "      <th></th>\n",
       "      <th>Productivity_Exp</th>\n",
       "      <th>Management_Exp</th>\n",
       "      <th>Promotions_Exp</th>\n",
       "      <th>State</th>\n",
       "      <th>Profit</th>\n",
       "    </tr>\n",
       "  </thead>\n",
       "  <tbody>\n",
       "    <tr>\n",
       "      <th>0</th>\n",
       "      <td>220349.20</td>\n",
       "      <td>236897.80</td>\n",
       "      <td>521784.10</td>\n",
       "      <td>Texas</td>\n",
       "      <td>242261.83</td>\n",
       "    </tr>\n",
       "    <tr>\n",
       "      <th>1</th>\n",
       "      <td>217597.70</td>\n",
       "      <td>251377.59</td>\n",
       "      <td>493898.53</td>\n",
       "      <td>Illinois</td>\n",
       "      <td>241792.06</td>\n",
       "    </tr>\n",
       "    <tr>\n",
       "      <th>2</th>\n",
       "      <td>208441.51</td>\n",
       "      <td>201145.55</td>\n",
       "      <td>457934.54</td>\n",
       "      <td>Washington</td>\n",
       "      <td>241050.39</td>\n",
       "    </tr>\n",
       "    <tr>\n",
       "      <th>3</th>\n",
       "      <td>199372.41</td>\n",
       "      <td>218671.85</td>\n",
       "      <td>433199.62</td>\n",
       "      <td>Texas</td>\n",
       "      <td>232901.99</td>\n",
       "    </tr>\n",
       "    <tr>\n",
       "      <th>4</th>\n",
       "      <td>197107.34</td>\n",
       "      <td>191391.77</td>\n",
       "      <td>416168.42</td>\n",
       "      <td>Washington</td>\n",
       "      <td>216187.94</td>\n",
       "    </tr>\n",
       "    <tr>\n",
       "      <th>5</th>\n",
       "      <td>186876.90</td>\n",
       "      <td>199814.71</td>\n",
       "      <td>412861.36</td>\n",
       "      <td>Texas</td>\n",
       "      <td>206991.12</td>\n",
       "    </tr>\n",
       "    <tr>\n",
       "      <th>6</th>\n",
       "      <td>189615.46</td>\n",
       "      <td>247198.87</td>\n",
       "      <td>177716.82</td>\n",
       "      <td>Illinois</td>\n",
       "      <td>206122.51</td>\n",
       "    </tr>\n",
       "    <tr>\n",
       "      <th>7</th>\n",
       "      <td>185298.13</td>\n",
       "      <td>245530.06</td>\n",
       "      <td>373876.68</td>\n",
       "      <td>Washington</td>\n",
       "      <td>205752.60</td>\n",
       "    </tr>\n",
       "    <tr>\n",
       "      <th>8</th>\n",
       "      <td>175542.52</td>\n",
       "      <td>248718.95</td>\n",
       "      <td>361613.29</td>\n",
       "      <td>Texas</td>\n",
       "      <td>202211.77</td>\n",
       "    </tr>\n",
       "    <tr>\n",
       "      <th>9</th>\n",
       "      <td>178334.88</td>\n",
       "      <td>208679.17</td>\n",
       "      <td>354981.62</td>\n",
       "      <td>Illinois</td>\n",
       "      <td>199759.96</td>\n",
       "    </tr>\n",
       "    <tr>\n",
       "      <th>10</th>\n",
       "      <td>156913.08</td>\n",
       "      <td>210594.11</td>\n",
       "      <td>279160.95</td>\n",
       "      <td>Washington</td>\n",
       "      <td>196121.95</td>\n",
       "    </tr>\n",
       "    <tr>\n",
       "      <th>11</th>\n",
       "      <td>155671.96</td>\n",
       "      <td>191790.61</td>\n",
       "      <td>299744.55</td>\n",
       "      <td>Illinois</td>\n",
       "      <td>194259.40</td>\n",
       "    </tr>\n",
       "    <tr>\n",
       "      <th>12</th>\n",
       "      <td>148863.75</td>\n",
       "      <td>227320.38</td>\n",
       "      <td>299839.44</td>\n",
       "      <td>Washington</td>\n",
       "      <td>191585.52</td>\n",
       "    </tr>\n",
       "    <tr>\n",
       "      <th>13</th>\n",
       "      <td>146992.39</td>\n",
       "      <td>235495.07</td>\n",
       "      <td>302664.93</td>\n",
       "      <td>Illinois</td>\n",
       "      <td>184307.35</td>\n",
       "    </tr>\n",
       "    <tr>\n",
       "      <th>14</th>\n",
       "      <td>174943.24</td>\n",
       "      <td>256547.42</td>\n",
       "      <td>306512.92</td>\n",
       "      <td>Washington</td>\n",
       "      <td>182602.65</td>\n",
       "    </tr>\n",
       "    <tr>\n",
       "      <th>15</th>\n",
       "      <td>169523.61</td>\n",
       "      <td>222616.84</td>\n",
       "      <td>311776.23</td>\n",
       "      <td>Texas</td>\n",
       "      <td>179917.04</td>\n",
       "    </tr>\n",
       "    <tr>\n",
       "      <th>16</th>\n",
       "      <td>133013.11</td>\n",
       "      <td>221597.55</td>\n",
       "      <td>314346.06</td>\n",
       "      <td>Illinois</td>\n",
       "      <td>176992.93</td>\n",
       "    </tr>\n",
       "    <tr>\n",
       "      <th>17</th>\n",
       "      <td>149657.16</td>\n",
       "      <td>245077.58</td>\n",
       "      <td>332574.31</td>\n",
       "      <td>Texas</td>\n",
       "      <td>175370.37</td>\n",
       "    </tr>\n",
       "    <tr>\n",
       "      <th>18</th>\n",
       "      <td>146749.16</td>\n",
       "      <td>214175.79</td>\n",
       "      <td>344919.57</td>\n",
       "      <td>Washington</td>\n",
       "      <td>174266.90</td>\n",
       "    </tr>\n",
       "    <tr>\n",
       "      <th>19</th>\n",
       "      <td>141419.70</td>\n",
       "      <td>253514.11</td>\n",
       "      <td>50000.00</td>\n",
       "      <td>Texas</td>\n",
       "      <td>172776.86</td>\n",
       "    </tr>\n",
       "    <tr>\n",
       "      <th>20</th>\n",
       "      <td>131253.86</td>\n",
       "      <td>213867.30</td>\n",
       "      <td>348664.47</td>\n",
       "      <td>Illinois</td>\n",
       "      <td>168474.03</td>\n",
       "    </tr>\n",
       "    <tr>\n",
       "      <th>21</th>\n",
       "      <td>133389.47</td>\n",
       "      <td>253773.43</td>\n",
       "      <td>349737.29</td>\n",
       "      <td>Texas</td>\n",
       "      <td>161313.02</td>\n",
       "    </tr>\n",
       "    <tr>\n",
       "      <th>22</th>\n",
       "      <td>128994.56</td>\n",
       "      <td>222782.75</td>\n",
       "      <td>353319.26</td>\n",
       "      <td>Washington</td>\n",
       "      <td>160352.25</td>\n",
       "    </tr>\n",
       "    <tr>\n",
       "      <th>23</th>\n",
       "      <td>122532.53</td>\n",
       "      <td>205751.03</td>\n",
       "      <td>354768.73</td>\n",
       "      <td>Washington</td>\n",
       "      <td>158733.99</td>\n",
       "    </tr>\n",
       "    <tr>\n",
       "      <th>24</th>\n",
       "      <td>132044.01</td>\n",
       "      <td>199281.34</td>\n",
       "      <td>190574.81</td>\n",
       "      <td>Texas</td>\n",
       "      <td>158552.04</td>\n",
       "    </tr>\n",
       "    <tr>\n",
       "      <th>25</th>\n",
       "      <td>119664.71</td>\n",
       "      <td>239553.16</td>\n",
       "      <td>187962.62</td>\n",
       "      <td>Illinois</td>\n",
       "      <td>157404.34</td>\n",
       "    </tr>\n",
       "    <tr>\n",
       "      <th>26</th>\n",
       "      <td>130328.87</td>\n",
       "      <td>244135.98</td>\n",
       "      <td>184050.07</td>\n",
       "      <td>Washington</td>\n",
       "      <td>155733.54</td>\n",
       "    </tr>\n",
       "    <tr>\n",
       "      <th>27</th>\n",
       "      <td>127107.60</td>\n",
       "      <td>227864.55</td>\n",
       "      <td>403183.81</td>\n",
       "      <td>Texas</td>\n",
       "      <td>155008.31</td>\n",
       "    </tr>\n",
       "    <tr>\n",
       "      <th>28</th>\n",
       "      <td>121051.52</td>\n",
       "      <td>282645.56</td>\n",
       "      <td>168148.20</td>\n",
       "      <td>Washington</td>\n",
       "      <td>153282.38</td>\n",
       "    </tr>\n",
       "    <tr>\n",
       "      <th>29</th>\n",
       "      <td>120605.48</td>\n",
       "      <td>253032.06</td>\n",
       "      <td>157138.38</td>\n",
       "      <td>Texas</td>\n",
       "      <td>151004.64</td>\n",
       "    </tr>\n",
       "    <tr>\n",
       "      <th>30</th>\n",
       "      <td>116994.48</td>\n",
       "      <td>215641.28</td>\n",
       "      <td>141131.24</td>\n",
       "      <td>Washington</td>\n",
       "      <td>149937.59</td>\n",
       "    </tr>\n",
       "    <tr>\n",
       "      <th>31</th>\n",
       "      <td>116136.38</td>\n",
       "      <td>252701.92</td>\n",
       "      <td>138218.23</td>\n",
       "      <td>Texas</td>\n",
       "      <td>147483.56</td>\n",
       "    </tr>\n",
       "    <tr>\n",
       "      <th>32</th>\n",
       "      <td>118408.86</td>\n",
       "      <td>229219.61</td>\n",
       "      <td>96085.25</td>\n",
       "      <td>Illinois</td>\n",
       "      <td>147427.84</td>\n",
       "    </tr>\n",
       "    <tr>\n",
       "      <th>33</th>\n",
       "      <td>110493.95</td>\n",
       "      <td>203057.49</td>\n",
       "      <td>264634.81</td>\n",
       "      <td>Washington</td>\n",
       "      <td>146778.92</td>\n",
       "    </tr>\n",
       "    <tr>\n",
       "      <th>34</th>\n",
       "      <td>101426.07</td>\n",
       "      <td>257693.92</td>\n",
       "      <td>260797.67</td>\n",
       "      <td>Illinois</td>\n",
       "      <td>146712.80</td>\n",
       "    </tr>\n",
       "    <tr>\n",
       "      <th>35</th>\n",
       "      <td>101014.02</td>\n",
       "      <td>185047.44</td>\n",
       "      <td>255517.64</td>\n",
       "      <td>Texas</td>\n",
       "      <td>146479.51</td>\n",
       "    </tr>\n",
       "    <tr>\n",
       "      <th>36</th>\n",
       "      <td>83663.76</td>\n",
       "      <td>227056.21</td>\n",
       "      <td>251126.82</td>\n",
       "      <td>Washington</td>\n",
       "      <td>140708.19</td>\n",
       "    </tr>\n",
       "    <tr>\n",
       "      <th>37</th>\n",
       "      <td>99069.95</td>\n",
       "      <td>151283.14</td>\n",
       "      <td>247029.42</td>\n",
       "      <td>Illinois</td>\n",
       "      <td>139949.14</td>\n",
       "    </tr>\n",
       "    <tr>\n",
       "      <th>38</th>\n",
       "      <td>75229.59</td>\n",
       "      <td>165947.93</td>\n",
       "      <td>235265.10</td>\n",
       "      <td>Texas</td>\n",
       "      <td>131229.06</td>\n",
       "    </tr>\n",
       "    <tr>\n",
       "      <th>39</th>\n",
       "      <td>93558.51</td>\n",
       "      <td>182982.09</td>\n",
       "      <td>224999.30</td>\n",
       "      <td>Illinois</td>\n",
       "      <td>131005.76</td>\n",
       "    </tr>\n",
       "    <tr>\n",
       "      <th>40</th>\n",
       "      <td>83754.33</td>\n",
       "      <td>218546.05</td>\n",
       "      <td>222795.67</td>\n",
       "      <td>Illinois</td>\n",
       "      <td>128239.91</td>\n",
       "    </tr>\n",
       "    <tr>\n",
       "      <th>41</th>\n",
       "      <td>82892.92</td>\n",
       "      <td>184710.77</td>\n",
       "      <td>214470.71</td>\n",
       "      <td>Washington</td>\n",
       "      <td>127798.83</td>\n",
       "    </tr>\n",
       "    <tr>\n",
       "      <th>42</th>\n",
       "      <td>78640.93</td>\n",
       "      <td>196189.63</td>\n",
       "      <td>198001.11</td>\n",
       "      <td>Illinois</td>\n",
       "      <td>121498.49</td>\n",
       "    </tr>\n",
       "    <tr>\n",
       "      <th>43</th>\n",
       "      <td>70505.73</td>\n",
       "      <td>227382.30</td>\n",
       "      <td>85534.17</td>\n",
       "      <td>Texas</td>\n",
       "      <td>119758.98</td>\n",
       "    </tr>\n",
       "    <tr>\n",
       "      <th>44</th>\n",
       "      <td>77177.74</td>\n",
       "      <td>254806.14</td>\n",
       "      <td>78334.72</td>\n",
       "      <td>Illinois</td>\n",
       "      <td>115200.33</td>\n",
       "    </tr>\n",
       "    <tr>\n",
       "      <th>45</th>\n",
       "      <td>56000.23</td>\n",
       "      <td>224153.04</td>\n",
       "      <td>51903.93</td>\n",
       "      <td>Texas</td>\n",
       "      <td>114926.08</td>\n",
       "    </tr>\n",
       "    <tr>\n",
       "      <th>46</th>\n",
       "      <td>56315.46</td>\n",
       "      <td>215816.21</td>\n",
       "      <td>347114.46</td>\n",
       "      <td>Washington</td>\n",
       "      <td>99490.75</td>\n",
       "    </tr>\n",
       "    <tr>\n",
       "      <th>47</th>\n",
       "      <td>55000.00</td>\n",
       "      <td>235426.92</td>\n",
       "      <td>50000.00</td>\n",
       "      <td>Illinois</td>\n",
       "      <td>92559.73</td>\n",
       "    </tr>\n",
       "    <tr>\n",
       "      <th>48</th>\n",
       "      <td>55542.05</td>\n",
       "      <td>151743.15</td>\n",
       "      <td>50000.00</td>\n",
       "      <td>Texas</td>\n",
       "      <td>85673.41</td>\n",
       "    </tr>\n",
       "    <tr>\n",
       "      <th>49</th>\n",
       "      <td>55000.00</td>\n",
       "      <td>216983.80</td>\n",
       "      <td>95173.06</td>\n",
       "      <td>Illinois</td>\n",
       "      <td>64681.40</td>\n",
       "    </tr>\n",
       "  </tbody>\n",
       "</table>\n",
       "</div>"
      ],
      "text/plain": [
       "    Productivity_Exp  Management_Exp  Promotions_Exp       State     Profit\n",
       "0          220349.20       236897.80       521784.10       Texas  242261.83\n",
       "1          217597.70       251377.59       493898.53    Illinois  241792.06\n",
       "2          208441.51       201145.55       457934.54  Washington  241050.39\n",
       "3          199372.41       218671.85       433199.62       Texas  232901.99\n",
       "4          197107.34       191391.77       416168.42  Washington  216187.94\n",
       "5          186876.90       199814.71       412861.36       Texas  206991.12\n",
       "6          189615.46       247198.87       177716.82    Illinois  206122.51\n",
       "7          185298.13       245530.06       373876.68  Washington  205752.60\n",
       "8          175542.52       248718.95       361613.29       Texas  202211.77\n",
       "9          178334.88       208679.17       354981.62    Illinois  199759.96\n",
       "10         156913.08       210594.11       279160.95  Washington  196121.95\n",
       "11         155671.96       191790.61       299744.55    Illinois  194259.40\n",
       "12         148863.75       227320.38       299839.44  Washington  191585.52\n",
       "13         146992.39       235495.07       302664.93    Illinois  184307.35\n",
       "14         174943.24       256547.42       306512.92  Washington  182602.65\n",
       "15         169523.61       222616.84       311776.23       Texas  179917.04\n",
       "16         133013.11       221597.55       314346.06    Illinois  176992.93\n",
       "17         149657.16       245077.58       332574.31       Texas  175370.37\n",
       "18         146749.16       214175.79       344919.57  Washington  174266.90\n",
       "19         141419.70       253514.11        50000.00       Texas  172776.86\n",
       "20         131253.86       213867.30       348664.47    Illinois  168474.03\n",
       "21         133389.47       253773.43       349737.29       Texas  161313.02\n",
       "22         128994.56       222782.75       353319.26  Washington  160352.25\n",
       "23         122532.53       205751.03       354768.73  Washington  158733.99\n",
       "24         132044.01       199281.34       190574.81       Texas  158552.04\n",
       "25         119664.71       239553.16       187962.62    Illinois  157404.34\n",
       "26         130328.87       244135.98       184050.07  Washington  155733.54\n",
       "27         127107.60       227864.55       403183.81       Texas  155008.31\n",
       "28         121051.52       282645.56       168148.20  Washington  153282.38\n",
       "29         120605.48       253032.06       157138.38       Texas  151004.64\n",
       "30         116994.48       215641.28       141131.24  Washington  149937.59\n",
       "31         116136.38       252701.92       138218.23       Texas  147483.56\n",
       "32         118408.86       229219.61        96085.25    Illinois  147427.84\n",
       "33         110493.95       203057.49       264634.81  Washington  146778.92\n",
       "34         101426.07       257693.92       260797.67    Illinois  146712.80\n",
       "35         101014.02       185047.44       255517.64       Texas  146479.51\n",
       "36          83663.76       227056.21       251126.82  Washington  140708.19\n",
       "37          99069.95       151283.14       247029.42    Illinois  139949.14\n",
       "38          75229.59       165947.93       235265.10       Texas  131229.06\n",
       "39          93558.51       182982.09       224999.30    Illinois  131005.76\n",
       "40          83754.33       218546.05       222795.67    Illinois  128239.91\n",
       "41          82892.92       184710.77       214470.71  Washington  127798.83\n",
       "42          78640.93       196189.63       198001.11    Illinois  121498.49\n",
       "43          70505.73       227382.30        85534.17       Texas  119758.98\n",
       "44          77177.74       254806.14        78334.72    Illinois  115200.33\n",
       "45          56000.23       224153.04        51903.93       Texas  114926.08\n",
       "46          56315.46       215816.21       347114.46  Washington   99490.75\n",
       "47          55000.00       235426.92        50000.00    Illinois   92559.73\n",
       "48          55542.05       151743.15        50000.00       Texas   85673.41\n",
       "49          55000.00       216983.80        95173.06    Illinois   64681.40"
      ]
     },
     "execution_count": 129,
     "metadata": {},
     "output_type": "execute_result"
    }
   ],
   "source": [
    "company=pd.read_csv(\"companies.csv\")\n",
    "company"
   ]
  },
  {
   "cell_type": "markdown",
   "id": "8fe60383-cd02-473e-a4fb-3d25f5e03fba",
   "metadata": {},
   "source": [
    "### Initial Checkup "
   ]
  },
  {
   "cell_type": "code",
   "execution_count": 130,
   "id": "ebe06094-60b8-45df-a213-d67af9aabbce",
   "metadata": {},
   "outputs": [
    {
     "data": {
      "text/html": [
       "<div>\n",
       "<style scoped>\n",
       "    .dataframe tbody tr th:only-of-type {\n",
       "        vertical-align: middle;\n",
       "    }\n",
       "\n",
       "    .dataframe tbody tr th {\n",
       "        vertical-align: top;\n",
       "    }\n",
       "\n",
       "    .dataframe thead th {\n",
       "        text-align: right;\n",
       "    }\n",
       "</style>\n",
       "<table border=\"1\" class=\"dataframe\">\n",
       "  <thead>\n",
       "    <tr style=\"text-align: right;\">\n",
       "      <th></th>\n",
       "      <th>Productivity_Exp</th>\n",
       "      <th>Management_Exp</th>\n",
       "      <th>Promotions_Exp</th>\n",
       "      <th>State</th>\n",
       "      <th>Profit</th>\n",
       "    </tr>\n",
       "  </thead>\n",
       "  <tbody>\n",
       "    <tr>\n",
       "      <th>0</th>\n",
       "      <td>220349.20</td>\n",
       "      <td>236897.80</td>\n",
       "      <td>521784.10</td>\n",
       "      <td>Texas</td>\n",
       "      <td>242261.83</td>\n",
       "    </tr>\n",
       "    <tr>\n",
       "      <th>1</th>\n",
       "      <td>217597.70</td>\n",
       "      <td>251377.59</td>\n",
       "      <td>493898.53</td>\n",
       "      <td>Illinois</td>\n",
       "      <td>241792.06</td>\n",
       "    </tr>\n",
       "    <tr>\n",
       "      <th>2</th>\n",
       "      <td>208441.51</td>\n",
       "      <td>201145.55</td>\n",
       "      <td>457934.54</td>\n",
       "      <td>Washington</td>\n",
       "      <td>241050.39</td>\n",
       "    </tr>\n",
       "    <tr>\n",
       "      <th>3</th>\n",
       "      <td>199372.41</td>\n",
       "      <td>218671.85</td>\n",
       "      <td>433199.62</td>\n",
       "      <td>Texas</td>\n",
       "      <td>232901.99</td>\n",
       "    </tr>\n",
       "    <tr>\n",
       "      <th>4</th>\n",
       "      <td>197107.34</td>\n",
       "      <td>191391.77</td>\n",
       "      <td>416168.42</td>\n",
       "      <td>Washington</td>\n",
       "      <td>216187.94</td>\n",
       "    </tr>\n",
       "  </tbody>\n",
       "</table>\n",
       "</div>"
      ],
      "text/plain": [
       "   Productivity_Exp  Management_Exp  Promotions_Exp       State     Profit\n",
       "0         220349.20       236897.80       521784.10       Texas  242261.83\n",
       "1         217597.70       251377.59       493898.53    Illinois  241792.06\n",
       "2         208441.51       201145.55       457934.54  Washington  241050.39\n",
       "3         199372.41       218671.85       433199.62       Texas  232901.99\n",
       "4         197107.34       191391.77       416168.42  Washington  216187.94"
      ]
     },
     "execution_count": 130,
     "metadata": {},
     "output_type": "execute_result"
    }
   ],
   "source": [
    "company.head()"
   ]
  },
  {
   "cell_type": "code",
   "execution_count": 131,
   "id": "1e828166-04a4-4e43-b6d0-049022e24a5f",
   "metadata": {},
   "outputs": [
    {
     "data": {
      "text/html": [
       "<div>\n",
       "<style scoped>\n",
       "    .dataframe tbody tr th:only-of-type {\n",
       "        vertical-align: middle;\n",
       "    }\n",
       "\n",
       "    .dataframe tbody tr th {\n",
       "        vertical-align: top;\n",
       "    }\n",
       "\n",
       "    .dataframe thead th {\n",
       "        text-align: right;\n",
       "    }\n",
       "</style>\n",
       "<table border=\"1\" class=\"dataframe\">\n",
       "  <thead>\n",
       "    <tr style=\"text-align: right;\">\n",
       "      <th></th>\n",
       "      <th>Productivity_Exp</th>\n",
       "      <th>Management_Exp</th>\n",
       "      <th>Promotions_Exp</th>\n",
       "      <th>State</th>\n",
       "      <th>Profit</th>\n",
       "    </tr>\n",
       "  </thead>\n",
       "  <tbody>\n",
       "    <tr>\n",
       "      <th>45</th>\n",
       "      <td>56000.23</td>\n",
       "      <td>224153.04</td>\n",
       "      <td>51903.93</td>\n",
       "      <td>Texas</td>\n",
       "      <td>114926.08</td>\n",
       "    </tr>\n",
       "    <tr>\n",
       "      <th>46</th>\n",
       "      <td>56315.46</td>\n",
       "      <td>215816.21</td>\n",
       "      <td>347114.46</td>\n",
       "      <td>Washington</td>\n",
       "      <td>99490.75</td>\n",
       "    </tr>\n",
       "    <tr>\n",
       "      <th>47</th>\n",
       "      <td>55000.00</td>\n",
       "      <td>235426.92</td>\n",
       "      <td>50000.00</td>\n",
       "      <td>Illinois</td>\n",
       "      <td>92559.73</td>\n",
       "    </tr>\n",
       "    <tr>\n",
       "      <th>48</th>\n",
       "      <td>55542.05</td>\n",
       "      <td>151743.15</td>\n",
       "      <td>50000.00</td>\n",
       "      <td>Texas</td>\n",
       "      <td>85673.41</td>\n",
       "    </tr>\n",
       "    <tr>\n",
       "      <th>49</th>\n",
       "      <td>55000.00</td>\n",
       "      <td>216983.80</td>\n",
       "      <td>95173.06</td>\n",
       "      <td>Illinois</td>\n",
       "      <td>64681.40</td>\n",
       "    </tr>\n",
       "  </tbody>\n",
       "</table>\n",
       "</div>"
      ],
      "text/plain": [
       "    Productivity_Exp  Management_Exp  Promotions_Exp       State     Profit\n",
       "45          56000.23       224153.04        51903.93       Texas  114926.08\n",
       "46          56315.46       215816.21       347114.46  Washington   99490.75\n",
       "47          55000.00       235426.92        50000.00    Illinois   92559.73\n",
       "48          55542.05       151743.15        50000.00       Texas   85673.41\n",
       "49          55000.00       216983.80        95173.06    Illinois   64681.40"
      ]
     },
     "execution_count": 131,
     "metadata": {},
     "output_type": "execute_result"
    }
   ],
   "source": [
    "company.tail()"
   ]
  },
  {
   "cell_type": "code",
   "execution_count": 132,
   "id": "517c981d-8312-406a-99fe-5758ab1db838",
   "metadata": {},
   "outputs": [
    {
     "data": {
      "text/plain": [
       "(50, 5)"
      ]
     },
     "execution_count": 132,
     "metadata": {},
     "output_type": "execute_result"
    }
   ],
   "source": [
    "company.shape"
   ]
  },
  {
   "cell_type": "code",
   "execution_count": 133,
   "id": "b7b98c4b-3a4a-4176-8d6f-4299c3141c15",
   "metadata": {},
   "outputs": [
    {
     "name": "stdout",
     "output_type": "stream",
     "text": [
      "<class 'pandas.core.frame.DataFrame'>\n",
      "RangeIndex: 50 entries, 0 to 49\n",
      "Data columns (total 5 columns):\n",
      " #   Column            Non-Null Count  Dtype  \n",
      "---  ------            --------------  -----  \n",
      " 0   Productivity_Exp  50 non-null     float64\n",
      " 1   Management_Exp    50 non-null     float64\n",
      " 2   Promotions_Exp    50 non-null     float64\n",
      " 3   State             50 non-null     object \n",
      " 4   Profit            50 non-null     float64\n",
      "dtypes: float64(4), object(1)\n",
      "memory usage: 2.1+ KB\n"
     ]
    }
   ],
   "source": [
    "company.info()"
   ]
  },
  {
   "cell_type": "code",
   "execution_count": 134,
   "id": "ae25da19-3a59-461f-a3af-3d7d66c092f7",
   "metadata": {},
   "outputs": [
    {
     "data": {
      "text/html": [
       "<div>\n",
       "<style scoped>\n",
       "    .dataframe tbody tr th:only-of-type {\n",
       "        vertical-align: middle;\n",
       "    }\n",
       "\n",
       "    .dataframe tbody tr th {\n",
       "        vertical-align: top;\n",
       "    }\n",
       "\n",
       "    .dataframe thead th {\n",
       "        text-align: right;\n",
       "    }\n",
       "</style>\n",
       "<table border=\"1\" class=\"dataframe\">\n",
       "  <thead>\n",
       "    <tr style=\"text-align: right;\">\n",
       "      <th></th>\n",
       "      <th>Productivity_Exp</th>\n",
       "      <th>Management_Exp</th>\n",
       "      <th>Promotions_Exp</th>\n",
       "      <th>Profit</th>\n",
       "    </tr>\n",
       "  </thead>\n",
       "  <tbody>\n",
       "    <tr>\n",
       "      <th>count</th>\n",
       "      <td>50.000000</td>\n",
       "      <td>50.000000</td>\n",
       "      <td>50.000000</td>\n",
       "      <td>50.000000</td>\n",
       "    </tr>\n",
       "    <tr>\n",
       "      <th>mean</th>\n",
       "      <td>128721.615600</td>\n",
       "      <td>221344.639600</td>\n",
       "      <td>261025.097800</td>\n",
       "      <td>162012.639200</td>\n",
       "    </tr>\n",
       "    <tr>\n",
       "      <th>std</th>\n",
       "      <td>45902.256482</td>\n",
       "      <td>28017.802755</td>\n",
       "      <td>122290.310726</td>\n",
       "      <td>40306.180338</td>\n",
       "    </tr>\n",
       "    <tr>\n",
       "      <th>min</th>\n",
       "      <td>55000.000000</td>\n",
       "      <td>151283.140000</td>\n",
       "      <td>50000.000000</td>\n",
       "      <td>64681.400000</td>\n",
       "    </tr>\n",
       "    <tr>\n",
       "      <th>25%</th>\n",
       "      <td>94936.370000</td>\n",
       "      <td>203730.875000</td>\n",
       "      <td>179300.132500</td>\n",
       "      <td>140138.902500</td>\n",
       "    </tr>\n",
       "    <tr>\n",
       "      <th>50%</th>\n",
       "      <td>128051.080000</td>\n",
       "      <td>222699.795000</td>\n",
       "      <td>262716.240000</td>\n",
       "      <td>157978.190000</td>\n",
       "    </tr>\n",
       "    <tr>\n",
       "      <th>75%</th>\n",
       "      <td>156602.800000</td>\n",
       "      <td>244842.180000</td>\n",
       "      <td>349469.085000</td>\n",
       "      <td>189765.977500</td>\n",
       "    </tr>\n",
       "    <tr>\n",
       "      <th>max</th>\n",
       "      <td>220349.200000</td>\n",
       "      <td>282645.560000</td>\n",
       "      <td>521784.100000</td>\n",
       "      <td>242261.830000</td>\n",
       "    </tr>\n",
       "  </tbody>\n",
       "</table>\n",
       "</div>"
      ],
      "text/plain": [
       "       Productivity_Exp  Management_Exp  Promotions_Exp         Profit\n",
       "count         50.000000       50.000000       50.000000      50.000000\n",
       "mean      128721.615600   221344.639600   261025.097800  162012.639200\n",
       "std        45902.256482    28017.802755   122290.310726   40306.180338\n",
       "min        55000.000000   151283.140000    50000.000000   64681.400000\n",
       "25%        94936.370000   203730.875000   179300.132500  140138.902500\n",
       "50%       128051.080000   222699.795000   262716.240000  157978.190000\n",
       "75%       156602.800000   244842.180000   349469.085000  189765.977500\n",
       "max       220349.200000   282645.560000   521784.100000  242261.830000"
      ]
     },
     "execution_count": 134,
     "metadata": {},
     "output_type": "execute_result"
    }
   ],
   "source": [
    "company.describe()"
   ]
  },
  {
   "cell_type": "markdown",
   "id": "c315ed3a-89be-4714-b39e-2fa40662f6be",
   "metadata": {},
   "source": [
    "### Asking Questions to the data"
   ]
  },
  {
   "cell_type": "markdown",
   "id": "a77104c5-18e8-4a26-8b09-4fa3a1bf800f",
   "metadata": {},
   "source": [
    "##### 1)What do the scatter plots of each type of Productivity_Exp vs. profit reveal?\n",
    "##### 2)What do the scatter plots of each type of Management_Exp vs. profit reveal?\n",
    "##### 3)What do the scatter plots of each type of Promotions_Exp vs. profit reveal?\n",
    "##### 4))What do the scatter plots of each type of Productivity_Exp vs. Promotions_Exp reveal?\n",
    "##### 5)How does the bar plot of average profit by states look?\n",
    "##### 6)what is the maximum profit based on state?\n",
    "##### 7)How are expenditures on productivity, management, and promotion expenses affecting profit?"
   ]
  },
  {
   "cell_type": "markdown",
   "id": "152adb22-f337-41d0-877d-917779546370",
   "metadata": {},
   "source": [
    "### EDA"
   ]
  },
  {
   "cell_type": "code",
   "execution_count": 135,
   "id": "bd6b4729-89c4-4f42-abdc-3b58fb40fede",
   "metadata": {},
   "outputs": [
    {
     "data": {
      "text/plain": [
       "Productivity_Exp\n",
       "55000.00     2\n",
       "220349.20    1\n",
       "83663.76     1\n",
       "127107.60    1\n",
       "121051.52    1\n",
       "Name: count, dtype: int64"
      ]
     },
     "execution_count": 135,
     "metadata": {},
     "output_type": "execute_result"
    }
   ],
   "source": [
    "company['Productivity_Exp'].value_counts().head()"
   ]
  },
  {
   "cell_type": "markdown",
   "id": "53a77a55-59e8-4c53-aae5-c44e120fec37",
   "metadata": {},
   "source": [
    "#### Productivity_exp and Profit by using scatterplot?"
   ]
  },
  {
   "cell_type": "code",
   "execution_count": 136,
   "id": "beb4ab20-f96a-4f50-b23a-ffa4cb01c420",
   "metadata": {},
   "outputs": [
    {
     "data": {
      "text/plain": [
       "<Axes: xlabel='Productivity_Exp', ylabel='Profit'>"
      ]
     },
     "execution_count": 136,
     "metadata": {},
     "output_type": "execute_result"
    },
    {
     "data": {
      "image/png": "[encoded data removed]",
      "text/plain": [
       "<Figure size 640x480 with 1 Axes>"
      ]
     },
     "metadata": {},
     "output_type": "display_data"
    }
   ],
   "source": [
    "sns.scatterplot(company,x=\"Productivity_Exp\",y=\"Profit\")"
   ]
  },
  {
   "cell_type": "markdown",
   "id": "d8a78c71-1ead-4ee4-b2a5-3788e794f437",
   "metadata": {},
   "source": [
    "#### Management_Exp and Profit by using scatterplot?"
   ]
  },
  {
   "cell_type": "code",
   "execution_count": 137,
   "id": "15ff1975-2610-480f-b077-0a3f934d827d",
   "metadata": {},
   "outputs": [
    {
     "data": {
      "text/plain": [
       "Management_Exp\n",
       "236897.80    1\n",
       "151283.14    1\n",
       "227864.55    1\n",
       "282645.56    1\n",
       "253032.06    1\n",
       "Name: count, dtype: int64"
      ]
     },
     "execution_count": 137,
     "metadata": {},
     "output_type": "execute_result"
    }
   ],
   "source": [
    "company['Management_Exp'].value_counts().head()"
   ]
  },
  {
   "cell_type": "code",
   "execution_count": 138,
   "id": "2d2d27dd-4189-44af-b250-21fea5858442",
   "metadata": {},
   "outputs": [
    {
     "data": {
      "text/plain": [
       "<Axes: xlabel='Management_Exp', ylabel='Profit'>"
      ]
     },
     "execution_count": 138,
     "metadata": {},
     "output_type": "execute_result"
    },
    {
     "data": {
      "image/png": "[encoded data removed]",
      "text/plain": [
       "<Figure size 640x480 with 1 Axes>"
      ]
     },
     "metadata": {},
     "output_type": "display_data"
    }
   ],
   "source": [
    "sns.scatterplot(company,x=\"Management_Exp\",y=\"Profit\")"
   ]
  },
  {
   "cell_type": "markdown",
   "id": "d5958233-9b5c-4647-8f1e-4de280c19647",
   "metadata": {},
   "source": [
    "#### Promotions_Exp and Profit by using scatterplot?"
   ]
  },
  {
   "cell_type": "code",
   "execution_count": 139,
   "id": "80b566ae-9a05-42fc-91a6-dafa35da0b89",
   "metadata": {},
   "outputs": [
    {
     "data": {
      "text/plain": [
       "Promotions_Exp\n",
       "50000.00     3\n",
       "521784.10    1\n",
       "187962.62    1\n",
       "403183.81    1\n",
       "168148.20    1\n",
       "Name: count, dtype: int64"
      ]
     },
     "execution_count": 139,
     "metadata": {},
     "output_type": "execute_result"
    }
   ],
   "source": [
    "company['Promotions_Exp'].value_counts().head()"
   ]
  },
  {
   "cell_type": "code",
   "execution_count": 140,
   "id": "6877d142-7481-430f-9ac7-b8a5ec1c536d",
   "metadata": {},
   "outputs": [
    {
     "data": {
      "text/plain": [
       "<Axes: xlabel='Promotions_Exp', ylabel='Profit'>"
      ]
     },
     "execution_count": 140,
     "metadata": {},
     "output_type": "execute_result"
    },
    {
     "data": {
      "image/png": "[encoded data removed]",
      "text/plain": [
       "<Figure size 640x480 with 1 Axes>"
      ]
     },
     "metadata": {},
     "output_type": "display_data"
    }
   ],
   "source": [
    "sns.scatterplot(company,x=\"Promotions_Exp\",y=\"Profit\")"
   ]
  },
  {
   "cell_type": "markdown",
   "id": "85dad704-ad90-458e-8a93-54d2708569c1",
   "metadata": {},
   "source": [
    "#### Insights : The scatterplot reveals the relationship of expenditure and profits significantly."
   ]
  },
  {
   "cell_type": "markdown",
   "id": "22467f42-b69e-48cd-9dc3-554519173fa6",
   "metadata": {},
   "source": [
    "#### Productivity and Promotions expenditure by using scatterplot?"
   ]
  },
  {
   "cell_type": "code",
   "execution_count": 141,
   "id": "619f55b9-17b6-4a50-9ec5-d3becdf58500",
   "metadata": {},
   "outputs": [
    {
     "data": {
      "text/plain": [
       "<Axes: xlabel='Productivity_Exp', ylabel='Promotions_Exp'>"
      ]
     },
     "execution_count": 141,
     "metadata": {},
     "output_type": "execute_result"
    },
    {
     "data": {
      "image/png": "[encoded data removed]",
      "text/plain": [
       "<Figure size 640x480 with 1 Axes>"
      ]
     },
     "metadata": {},
     "output_type": "display_data"
    }
   ],
   "source": [
    "sns.scatterplot(company,x='Productivity_Exp',y='Promotions_Exp')"
   ]
  },
  {
   "cell_type": "markdown",
   "id": "dcc04129-7fa8-467b-ab1f-a6d65e8447b6",
   "metadata": {},
   "source": [
    "#### Insights : It indicates that the productivity expenditure depends on the promotion expenditure.If the promotion expenditure increases then productivity also increase"
   ]
  },
  {
   "cell_type": "markdown",
   "id": "941e2ba9-0ffe-4568-8292-6119567f96b1",
   "metadata": {},
   "source": [
    "#### How does the bar plot of average profit by states look?"
   ]
  },
  {
   "cell_type": "code",
   "execution_count": 142,
   "id": "2fd1898b-fcbb-4fa5-ad6e-a7de71afcb1b",
   "metadata": {},
   "outputs": [
    {
     "data": {
      "text/plain": [
       "<Axes: xlabel='State', ylabel='Profit'>"
      ]
     },
     "execution_count": 142,
     "metadata": {},
     "output_type": "execute_result"
    },
    {
     "data": {
      "image/png": "[encoded data removed]",
      "text/plain": [
       "<Figure size 640x480 with 1 Axes>"
      ]
     },
     "metadata": {},
     "output_type": "display_data"
    }
   ],
   "source": [
    "sns.barplot(company,x=\"State\",y=\"Profit\")"
   ]
  },
  {
   "cell_type": "markdown",
   "id": "e056b5db-71b1-4c64-a96b-407d63773798",
   "metadata": {},
   "source": [
    "#### Insights : The barplot shows the difference between the state and their profits.In this washington state has more profit than other state."
   ]
  },
  {
   "cell_type": "markdown",
   "id": "876a4fe2-ab44-4619-b183-4443a5a99a3d",
   "metadata": {},
   "source": [
    "#### What is the maximum profit based on state?"
   ]
  },
  {
   "cell_type": "code",
   "execution_count": 143,
   "id": "ceb5a02c-537f-42ba-b14f-d4d5a4b6a011",
   "metadata": {},
   "outputs": [
    {
     "data": {
      "text/plain": [
       "<Axes: xlabel='State', ylabel='Profit'>"
      ]
     },
     "execution_count": 143,
     "metadata": {},
     "output_type": "execute_result"
    },
    {
     "data": {
      "image/png": "[encoded data removed]",
      "text/plain": [
       "<Figure size 640x480 with 1 Axes>"
      ]
     },
     "metadata": {},
     "output_type": "display_data"
    }
   ],
   "source": [
    "sns.boxplot(company,x='State',y='Profit')"
   ]
  },
  {
   "cell_type": "code",
   "execution_count": 144,
   "id": "9144d4b2-272a-45df-a3da-987a2f917127",
   "metadata": {},
   "outputs": [
    {
     "data": {
      "text/plain": [
       "<Axes: xlabel='Promotions_Exp', ylabel='Count'>"
      ]
     },
     "execution_count": 144,
     "metadata": {},
     "output_type": "execute_result"
    },
    {
     "data": {
      "image/png": "[encoded data removed]",
      "text/plain": [
       "<Figure size 640x480 with 1 Axes>"
      ]
     },
     "metadata": {},
     "output_type": "display_data"
    }
   ],
   "source": [
    "sns.histplot(company,x='Promotions_Exp',kde=True)"
   ]
  },
  {
   "cell_type": "markdown",
   "id": "8ad0991b-e5ca-4add-9205-46dd9947129b",
   "metadata": {},
   "source": [
    "#### How are expenditures on productivity, management, and promotion expenses affecting profit?"
   ]
  },
  {
   "cell_type": "code",
   "execution_count": 145,
   "id": "5b0dcb19-8471-498a-bfc7-d79729d50379",
   "metadata": {},
   "outputs": [
    {
     "data": {
      "text/plain": [
       "<seaborn.axisgrid.PairGrid at 0x1716426b010>"
      ]
     },
     "execution_count": 145,
     "metadata": {},
     "output_type": "execute_result"
    },
    {
     "data": {
      "image/png": "[encoded data removed]",
      "text/plain": [
       "<Figure size 1000x1000 with 20 Axes>"
      ]
     },
     "metadata": {},
     "output_type": "display_data"
    }
   ],
   "source": [
    "sns.pairplot(company)"
   ]
  },
  {
   "cell_type": "markdown",
   "id": "da63d6fd-49c4-4b1f-b925-cc8969d85f21",
   "metadata": {},
   "source": [
    "##### In this pair plot we can observe that the graphs shows the difference of each one of them."
   ]
  },
  {
   "cell_type": "markdown",
   "id": "dcc6b4f5-7b4f-4724-92e6-949924712ccd",
   "metadata": {},
   "source": [
    "### Converting the categorical to numerical using get_dummies"
   ]
  },
  {
   "cell_type": "code",
   "execution_count": 146,
   "id": "8d42dad6-24c3-4f8b-be0b-57f54b3e6aeb",
   "metadata": {},
   "outputs": [
    {
     "data": {
      "text/html": [
       "<div>\n",
       "<style scoped>\n",
       "    .dataframe tbody tr th:only-of-type {\n",
       "        vertical-align: middle;\n",
       "    }\n",
       "\n",
       "    .dataframe tbody tr th {\n",
       "        vertical-align: top;\n",
       "    }\n",
       "\n",
       "    .dataframe thead th {\n",
       "        text-align: right;\n",
       "    }\n",
       "</style>\n",
       "<table border=\"1\" class=\"dataframe\">\n",
       "  <thead>\n",
       "    <tr style=\"text-align: right;\">\n",
       "      <th></th>\n",
       "      <th>Productivity_Exp</th>\n",
       "      <th>Management_Exp</th>\n",
       "      <th>Promotions_Exp</th>\n",
       "      <th>Profit</th>\n",
       "      <th>State_Illinois</th>\n",
       "      <th>State_Texas</th>\n",
       "      <th>State_Washington</th>\n",
       "    </tr>\n",
       "  </thead>\n",
       "  <tbody>\n",
       "    <tr>\n",
       "      <th>0</th>\n",
       "      <td>220349.20</td>\n",
       "      <td>236897.80</td>\n",
       "      <td>521784.10</td>\n",
       "      <td>242261.83</td>\n",
       "      <td>False</td>\n",
       "      <td>True</td>\n",
       "      <td>False</td>\n",
       "    </tr>\n",
       "    <tr>\n",
       "      <th>1</th>\n",
       "      <td>217597.70</td>\n",
       "      <td>251377.59</td>\n",
       "      <td>493898.53</td>\n",
       "      <td>241792.06</td>\n",
       "      <td>True</td>\n",
       "      <td>False</td>\n",
       "      <td>False</td>\n",
       "    </tr>\n",
       "    <tr>\n",
       "      <th>2</th>\n",
       "      <td>208441.51</td>\n",
       "      <td>201145.55</td>\n",
       "      <td>457934.54</td>\n",
       "      <td>241050.39</td>\n",
       "      <td>False</td>\n",
       "      <td>False</td>\n",
       "      <td>True</td>\n",
       "    </tr>\n",
       "    <tr>\n",
       "      <th>3</th>\n",
       "      <td>199372.41</td>\n",
       "      <td>218671.85</td>\n",
       "      <td>433199.62</td>\n",
       "      <td>232901.99</td>\n",
       "      <td>False</td>\n",
       "      <td>True</td>\n",
       "      <td>False</td>\n",
       "    </tr>\n",
       "    <tr>\n",
       "      <th>4</th>\n",
       "      <td>197107.34</td>\n",
       "      <td>191391.77</td>\n",
       "      <td>416168.42</td>\n",
       "      <td>216187.94</td>\n",
       "      <td>False</td>\n",
       "      <td>False</td>\n",
       "      <td>True</td>\n",
       "    </tr>\n",
       "  </tbody>\n",
       "</table>\n",
       "</div>"
      ],
      "text/plain": [
       "   Productivity_Exp  Management_Exp  Promotions_Exp     Profit  \\\n",
       "0         220349.20       236897.80       521784.10  242261.83   \n",
       "1         217597.70       251377.59       493898.53  241792.06   \n",
       "2         208441.51       201145.55       457934.54  241050.39   \n",
       "3         199372.41       218671.85       433199.62  232901.99   \n",
       "4         197107.34       191391.77       416168.42  216187.94   \n",
       "\n",
       "   State_Illinois  State_Texas  State_Washington  \n",
       "0           False         True             False  \n",
       "1            True        False             False  \n",
       "2           False        False              True  \n",
       "3           False         True             False  \n",
       "4           False        False              True  "
      ]
     },
     "execution_count": 146,
     "metadata": {},
     "output_type": "execute_result"
    }
   ],
   "source": [
    "data=pd.get_dummies(company,columns=['State'],drop_first=False)\n",
    "data.head()"
   ]
  },
  {
   "cell_type": "markdown",
   "id": "06cf0fbd-7d93-48f3-8576-31992138d72c",
   "metadata": {},
   "source": [
    "### Correlation"
   ]
  },
  {
   "cell_type": "code",
   "execution_count": 147,
   "id": "8e3a1bf0-eaa2-42a6-93bc-2f55df74f459",
   "metadata": {},
   "outputs": [
    {
     "data": {
      "text/html": [
       "<div>\n",
       "<style scoped>\n",
       "    .dataframe tbody tr th:only-of-type {\n",
       "        vertical-align: middle;\n",
       "    }\n",
       "\n",
       "    .dataframe tbody tr th {\n",
       "        vertical-align: top;\n",
       "    }\n",
       "\n",
       "    .dataframe thead th {\n",
       "        text-align: right;\n",
       "    }\n",
       "</style>\n",
       "<table border=\"1\" class=\"dataframe\">\n",
       "  <thead>\n",
       "    <tr style=\"text-align: right;\">\n",
       "      <th></th>\n",
       "      <th>Productivity_Exp</th>\n",
       "      <th>Management_Exp</th>\n",
       "      <th>Promotions_Exp</th>\n",
       "      <th>Profit</th>\n",
       "      <th>State_Illinois</th>\n",
       "      <th>State_Texas</th>\n",
       "      <th>State_Washington</th>\n",
       "    </tr>\n",
       "  </thead>\n",
       "  <tbody>\n",
       "    <tr>\n",
       "      <th>Productivity_Exp</th>\n",
       "      <td>1.000000</td>\n",
       "      <td>0.241955</td>\n",
       "      <td>0.724248</td>\n",
       "      <td>0.972900</td>\n",
       "      <td>-0.143165</td>\n",
       "      <td>0.039068</td>\n",
       "      <td>0.105711</td>\n",
       "    </tr>\n",
       "    <tr>\n",
       "      <th>Management_Exp</th>\n",
       "      <td>0.241955</td>\n",
       "      <td>1.000000</td>\n",
       "      <td>-0.032154</td>\n",
       "      <td>0.200717</td>\n",
       "      <td>-0.015478</td>\n",
       "      <td>0.005145</td>\n",
       "      <td>0.010493</td>\n",
       "    </tr>\n",
       "    <tr>\n",
       "      <th>Promotions_Exp</th>\n",
       "      <td>0.724248</td>\n",
       "      <td>-0.032154</td>\n",
       "      <td>1.000000</td>\n",
       "      <td>0.747766</td>\n",
       "      <td>-0.168875</td>\n",
       "      <td>-0.033670</td>\n",
       "      <td>0.205685</td>\n",
       "    </tr>\n",
       "    <tr>\n",
       "      <th>Profit</th>\n",
       "      <td>0.972900</td>\n",
       "      <td>0.200717</td>\n",
       "      <td>0.747766</td>\n",
       "      <td>1.000000</td>\n",
       "      <td>-0.145837</td>\n",
       "      <td>0.031368</td>\n",
       "      <td>0.116244</td>\n",
       "    </tr>\n",
       "    <tr>\n",
       "      <th>State_Illinois</th>\n",
       "      <td>-0.143165</td>\n",
       "      <td>-0.015478</td>\n",
       "      <td>-0.168875</td>\n",
       "      <td>-0.145837</td>\n",
       "      <td>1.000000</td>\n",
       "      <td>-0.515152</td>\n",
       "      <td>-0.492366</td>\n",
       "    </tr>\n",
       "    <tr>\n",
       "      <th>State_Texas</th>\n",
       "      <td>0.039068</td>\n",
       "      <td>0.005145</td>\n",
       "      <td>-0.033670</td>\n",
       "      <td>0.031368</td>\n",
       "      <td>-0.515152</td>\n",
       "      <td>1.000000</td>\n",
       "      <td>-0.492366</td>\n",
       "    </tr>\n",
       "    <tr>\n",
       "      <th>State_Washington</th>\n",
       "      <td>0.105711</td>\n",
       "      <td>0.010493</td>\n",
       "      <td>0.205685</td>\n",
       "      <td>0.116244</td>\n",
       "      <td>-0.492366</td>\n",
       "      <td>-0.492366</td>\n",
       "      <td>1.000000</td>\n",
       "    </tr>\n",
       "  </tbody>\n",
       "</table>\n",
       "</div>"
      ],
      "text/plain": [
       "                  Productivity_Exp  Management_Exp  Promotions_Exp    Profit  \\\n",
       "Productivity_Exp          1.000000        0.241955        0.724248  0.972900   \n",
       "Management_Exp            0.241955        1.000000       -0.032154  0.200717   \n",
       "Promotions_Exp            0.724248       -0.032154        1.000000  0.747766   \n",
       "Profit                    0.972900        0.200717        0.747766  1.000000   \n",
       "State_Illinois           -0.143165       -0.015478       -0.168875 -0.145837   \n",
       "State_Texas               0.039068        0.005145       -0.033670  0.031368   \n",
       "State_Washington          0.105711        0.010493        0.205685  0.116244   \n",
       "\n",
       "                  State_Illinois  State_Texas  State_Washington  \n",
       "Productivity_Exp       -0.143165     0.039068          0.105711  \n",
       "Management_Exp         -0.015478     0.005145          0.010493  \n",
       "Promotions_Exp         -0.168875    -0.033670          0.205685  \n",
       "Profit                 -0.145837     0.031368          0.116244  \n",
       "State_Illinois          1.000000    -0.515152         -0.492366  \n",
       "State_Texas            -0.515152     1.000000         -0.492366  \n",
       "State_Washington       -0.492366    -0.492366          1.000000  "
      ]
     },
     "execution_count": 147,
     "metadata": {},
     "output_type": "execute_result"
    }
   ],
   "source": [
    "data.corr()"
   ]
  },
  {
   "cell_type": "markdown",
   "id": "f38e593d-41ed-4f53-8839-1734260b8cd3",
   "metadata": {},
   "source": [
    "### Correlation of data1"
   ]
  },
  {
   "cell_type": "code",
   "execution_count": 148,
   "id": "a0d68e88-3879-4933-8f4c-c62e8b288bf0",
   "metadata": {},
   "outputs": [
    {
     "data": {
      "text/html": [
       "<div>\n",
       "<style scoped>\n",
       "    .dataframe tbody tr th:only-of-type {\n",
       "        vertical-align: middle;\n",
       "    }\n",
       "\n",
       "    .dataframe tbody tr th {\n",
       "        vertical-align: top;\n",
       "    }\n",
       "\n",
       "    .dataframe thead th {\n",
       "        text-align: right;\n",
       "    }\n",
       "</style>\n",
       "<table border=\"1\" class=\"dataframe\">\n",
       "  <thead>\n",
       "    <tr style=\"text-align: right;\">\n",
       "      <th></th>\n",
       "      <th>Productivity_Exp</th>\n",
       "      <th>Management_Exp</th>\n",
       "      <th>Promotions_Exp</th>\n",
       "      <th>State_Illinois</th>\n",
       "      <th>State_Texas</th>\n",
       "      <th>State_Washington</th>\n",
       "    </tr>\n",
       "  </thead>\n",
       "  <tbody>\n",
       "    <tr>\n",
       "      <th>0</th>\n",
       "      <td>220349.20</td>\n",
       "      <td>236897.80</td>\n",
       "      <td>521784.10</td>\n",
       "      <td>False</td>\n",
       "      <td>True</td>\n",
       "      <td>False</td>\n",
       "    </tr>\n",
       "    <tr>\n",
       "      <th>1</th>\n",
       "      <td>217597.70</td>\n",
       "      <td>251377.59</td>\n",
       "      <td>493898.53</td>\n",
       "      <td>True</td>\n",
       "      <td>False</td>\n",
       "      <td>False</td>\n",
       "    </tr>\n",
       "    <tr>\n",
       "      <th>2</th>\n",
       "      <td>208441.51</td>\n",
       "      <td>201145.55</td>\n",
       "      <td>457934.54</td>\n",
       "      <td>False</td>\n",
       "      <td>False</td>\n",
       "      <td>True</td>\n",
       "    </tr>\n",
       "    <tr>\n",
       "      <th>3</th>\n",
       "      <td>199372.41</td>\n",
       "      <td>218671.85</td>\n",
       "      <td>433199.62</td>\n",
       "      <td>False</td>\n",
       "      <td>True</td>\n",
       "      <td>False</td>\n",
       "    </tr>\n",
       "    <tr>\n",
       "      <th>4</th>\n",
       "      <td>197107.34</td>\n",
       "      <td>191391.77</td>\n",
       "      <td>416168.42</td>\n",
       "      <td>False</td>\n",
       "      <td>False</td>\n",
       "      <td>True</td>\n",
       "    </tr>\n",
       "  </tbody>\n",
       "</table>\n",
       "</div>"
      ],
      "text/plain": [
       "   Productivity_Exp  Management_Exp  Promotions_Exp  State_Illinois  \\\n",
       "0         220349.20       236897.80       521784.10           False   \n",
       "1         217597.70       251377.59       493898.53            True   \n",
       "2         208441.51       201145.55       457934.54           False   \n",
       "3         199372.41       218671.85       433199.62           False   \n",
       "4         197107.34       191391.77       416168.42           False   \n",
       "\n",
       "   State_Texas  State_Washington  \n",
       "0         True             False  \n",
       "1        False             False  \n",
       "2        False              True  \n",
       "3         True             False  \n",
       "4        False              True  "
      ]
     },
     "execution_count": 148,
     "metadata": {},
     "output_type": "execute_result"
    }
   ],
   "source": [
    "a=data.drop(columns=['Profit'])\n",
    "a.head()"
   ]
  },
  {
   "cell_type": "code",
   "execution_count": 149,
   "id": "de83dd64-0279-4f25-98f8-aa84ab2bf06d",
   "metadata": {},
   "outputs": [
    {
     "data": {
      "text/html": [
       "<div>\n",
       "<style scoped>\n",
       "    .dataframe tbody tr th:only-of-type {\n",
       "        vertical-align: middle;\n",
       "    }\n",
       "\n",
       "    .dataframe tbody tr th {\n",
       "        vertical-align: top;\n",
       "    }\n",
       "\n",
       "    .dataframe thead th {\n",
       "        text-align: right;\n",
       "    }\n",
       "</style>\n",
       "<table border=\"1\" class=\"dataframe\">\n",
       "  <thead>\n",
       "    <tr style=\"text-align: right;\">\n",
       "      <th></th>\n",
       "      <th>Productivity_Exp</th>\n",
       "      <th>Management_Exp</th>\n",
       "      <th>Promotions_Exp</th>\n",
       "      <th>State_Illinois</th>\n",
       "      <th>State_Texas</th>\n",
       "      <th>State_Washington</th>\n",
       "    </tr>\n",
       "  </thead>\n",
       "  <tbody>\n",
       "    <tr>\n",
       "      <th>45</th>\n",
       "      <td>56000.23</td>\n",
       "      <td>224153.04</td>\n",
       "      <td>51903.93</td>\n",
       "      <td>False</td>\n",
       "      <td>True</td>\n",
       "      <td>False</td>\n",
       "    </tr>\n",
       "    <tr>\n",
       "      <th>46</th>\n",
       "      <td>56315.46</td>\n",
       "      <td>215816.21</td>\n",
       "      <td>347114.46</td>\n",
       "      <td>False</td>\n",
       "      <td>False</td>\n",
       "      <td>True</td>\n",
       "    </tr>\n",
       "    <tr>\n",
       "      <th>47</th>\n",
       "      <td>55000.00</td>\n",
       "      <td>235426.92</td>\n",
       "      <td>50000.00</td>\n",
       "      <td>True</td>\n",
       "      <td>False</td>\n",
       "      <td>False</td>\n",
       "    </tr>\n",
       "    <tr>\n",
       "      <th>48</th>\n",
       "      <td>55542.05</td>\n",
       "      <td>151743.15</td>\n",
       "      <td>50000.00</td>\n",
       "      <td>False</td>\n",
       "      <td>True</td>\n",
       "      <td>False</td>\n",
       "    </tr>\n",
       "    <tr>\n",
       "      <th>49</th>\n",
       "      <td>55000.00</td>\n",
       "      <td>216983.80</td>\n",
       "      <td>95173.06</td>\n",
       "      <td>True</td>\n",
       "      <td>False</td>\n",
       "      <td>False</td>\n",
       "    </tr>\n",
       "  </tbody>\n",
       "</table>\n",
       "</div>"
      ],
      "text/plain": [
       "    Productivity_Exp  Management_Exp  Promotions_Exp  State_Illinois  \\\n",
       "45          56000.23       224153.04        51903.93           False   \n",
       "46          56315.46       215816.21       347114.46           False   \n",
       "47          55000.00       235426.92        50000.00            True   \n",
       "48          55542.05       151743.15        50000.00           False   \n",
       "49          55000.00       216983.80        95173.06            True   \n",
       "\n",
       "    State_Texas  State_Washington  \n",
       "45         True             False  \n",
       "46        False              True  \n",
       "47        False             False  \n",
       "48         True             False  \n",
       "49        False             False  "
      ]
     },
     "execution_count": 149,
     "metadata": {},
     "output_type": "execute_result"
    }
   ],
   "source": [
    "a.tail()"
   ]
  },
  {
   "cell_type": "markdown",
   "id": "51410a97-aef2-40f7-84d5-8da66a9ed45c",
   "metadata": {},
   "source": [
    "### Correlation of data2"
   ]
  },
  {
   "cell_type": "code",
   "execution_count": 150,
   "id": "0ea8f0df-713c-4257-8149-750578d8db6b",
   "metadata": {},
   "outputs": [
    {
     "data": {
      "text/html": [
       "<div>\n",
       "<style scoped>\n",
       "    .dataframe tbody tr th:only-of-type {\n",
       "        vertical-align: middle;\n",
       "    }\n",
       "\n",
       "    .dataframe tbody tr th {\n",
       "        vertical-align: top;\n",
       "    }\n",
       "\n",
       "    .dataframe thead th {\n",
       "        text-align: right;\n",
       "    }\n",
       "</style>\n",
       "<table border=\"1\" class=\"dataframe\">\n",
       "  <thead>\n",
       "    <tr style=\"text-align: right;\">\n",
       "      <th></th>\n",
       "      <th>Profit</th>\n",
       "    </tr>\n",
       "  </thead>\n",
       "  <tbody>\n",
       "    <tr>\n",
       "      <th>0</th>\n",
       "      <td>242261.83</td>\n",
       "    </tr>\n",
       "    <tr>\n",
       "      <th>1</th>\n",
       "      <td>241792.06</td>\n",
       "    </tr>\n",
       "    <tr>\n",
       "      <th>2</th>\n",
       "      <td>241050.39</td>\n",
       "    </tr>\n",
       "    <tr>\n",
       "      <th>3</th>\n",
       "      <td>232901.99</td>\n",
       "    </tr>\n",
       "    <tr>\n",
       "      <th>4</th>\n",
       "      <td>216187.94</td>\n",
       "    </tr>\n",
       "  </tbody>\n",
       "</table>\n",
       "</div>"
      ],
      "text/plain": [
       "      Profit\n",
       "0  242261.83\n",
       "1  241792.06\n",
       "2  241050.39\n",
       "3  232901.99\n",
       "4  216187.94"
      ]
     },
     "execution_count": 150,
     "metadata": {},
     "output_type": "execute_result"
    }
   ],
   "source": [
    "b=data.iloc[:,3:4]\n",
    "b.head()"
   ]
  },
  {
   "cell_type": "markdown",
   "id": "ec6ffda1-39d5-4802-a7a3-6bf5b39afc1f",
   "metadata": {},
   "source": [
    "### train_test_split"
   ]
  },
  {
   "cell_type": "markdown",
   "id": "0987cec8-0f84-4705-8039-7aeea4eb8cca",
   "metadata": {},
   "source": [
    "##### The code splits the input data(x) and output data(y) into training and testing sets with 80% of the data training(X_train,Y_train) and 20% of the data testing(X_test,Y_test)."
   ]
  },
  {
   "cell_type": "code",
   "execution_count": 151,
   "id": "b35f15e5-5262-4978-9f8b-4a091f3c1373",
   "metadata": {},
   "outputs": [],
   "source": [
    "from sklearn.model_selection import train_test_split\n",
    "X_train,X_test,y_train,y_test=train_test_split(a,b,test_size=0.2,random_state=2)"
   ]
  },
  {
   "cell_type": "code",
   "execution_count": 152,
   "id": "4b3fc2d5-c4b4-4b59-adc2-04a9f644aea4",
   "metadata": {},
   "outputs": [
    {
     "data": {
      "text/html": [
       "<div>\n",
       "<style scoped>\n",
       "    .dataframe tbody tr th:only-of-type {\n",
       "        vertical-align: middle;\n",
       "    }\n",
       "\n",
       "    .dataframe tbody tr th {\n",
       "        vertical-align: top;\n",
       "    }\n",
       "\n",
       "    .dataframe thead th {\n",
       "        text-align: right;\n",
       "    }\n",
       "</style>\n",
       "<table border=\"1\" class=\"dataframe\">\n",
       "  <thead>\n",
       "    <tr style=\"text-align: right;\">\n",
       "      <th></th>\n",
       "      <th>Productivity_Exp</th>\n",
       "      <th>Management_Exp</th>\n",
       "      <th>Promotions_Exp</th>\n",
       "      <th>State_Illinois</th>\n",
       "      <th>State_Texas</th>\n",
       "      <th>State_Washington</th>\n",
       "    </tr>\n",
       "  </thead>\n",
       "  <tbody>\n",
       "    <tr>\n",
       "      <th>24</th>\n",
       "      <td>132044.01</td>\n",
       "      <td>199281.34</td>\n",
       "      <td>190574.81</td>\n",
       "      <td>False</td>\n",
       "      <td>True</td>\n",
       "      <td>False</td>\n",
       "    </tr>\n",
       "    <tr>\n",
       "      <th>48</th>\n",
       "      <td>55542.05</td>\n",
       "      <td>151743.15</td>\n",
       "      <td>50000.00</td>\n",
       "      <td>False</td>\n",
       "      <td>True</td>\n",
       "      <td>False</td>\n",
       "    </tr>\n",
       "    <tr>\n",
       "      <th>17</th>\n",
       "      <td>149657.16</td>\n",
       "      <td>245077.58</td>\n",
       "      <td>332574.31</td>\n",
       "      <td>False</td>\n",
       "      <td>True</td>\n",
       "      <td>False</td>\n",
       "    </tr>\n",
       "    <tr>\n",
       "      <th>12</th>\n",
       "      <td>148863.75</td>\n",
       "      <td>227320.38</td>\n",
       "      <td>299839.44</td>\n",
       "      <td>False</td>\n",
       "      <td>False</td>\n",
       "      <td>True</td>\n",
       "    </tr>\n",
       "    <tr>\n",
       "      <th>27</th>\n",
       "      <td>127107.60</td>\n",
       "      <td>227864.55</td>\n",
       "      <td>403183.81</td>\n",
       "      <td>False</td>\n",
       "      <td>True</td>\n",
       "      <td>False</td>\n",
       "    </tr>\n",
       "  </tbody>\n",
       "</table>\n",
       "</div>"
      ],
      "text/plain": [
       "    Productivity_Exp  Management_Exp  Promotions_Exp  State_Illinois  \\\n",
       "24         132044.01       199281.34       190574.81           False   \n",
       "48          55542.05       151743.15        50000.00           False   \n",
       "17         149657.16       245077.58       332574.31           False   \n",
       "12         148863.75       227320.38       299839.44           False   \n",
       "27         127107.60       227864.55       403183.81           False   \n",
       "\n",
       "    State_Texas  State_Washington  \n",
       "24         True             False  \n",
       "48         True             False  \n",
       "17         True             False  \n",
       "12        False              True  \n",
       "27         True             False  "
      ]
     },
     "execution_count": 152,
     "metadata": {},
     "output_type": "execute_result"
    }
   ],
   "source": [
    "X_train.head()"
   ]
  },
  {
   "cell_type": "code",
   "execution_count": 153,
   "id": "eef9a787-354d-4beb-8f22-235b69a2ea17",
   "metadata": {},
   "outputs": [
    {
     "data": {
      "text/html": [
       "<div>\n",
       "<style scoped>\n",
       "    .dataframe tbody tr th:only-of-type {\n",
       "        vertical-align: middle;\n",
       "    }\n",
       "\n",
       "    .dataframe tbody tr th {\n",
       "        vertical-align: top;\n",
       "    }\n",
       "\n",
       "    .dataframe thead th {\n",
       "        text-align: right;\n",
       "    }\n",
       "</style>\n",
       "<table border=\"1\" class=\"dataframe\">\n",
       "  <thead>\n",
       "    <tr style=\"text-align: right;\">\n",
       "      <th></th>\n",
       "      <th>Productivity_Exp</th>\n",
       "      <th>Management_Exp</th>\n",
       "      <th>Promotions_Exp</th>\n",
       "      <th>State_Illinois</th>\n",
       "      <th>State_Texas</th>\n",
       "      <th>State_Washington</th>\n",
       "    </tr>\n",
       "  </thead>\n",
       "  <tbody>\n",
       "    <tr>\n",
       "      <th>36</th>\n",
       "      <td>83663.76</td>\n",
       "      <td>227056.21</td>\n",
       "      <td>251126.82</td>\n",
       "      <td>False</td>\n",
       "      <td>False</td>\n",
       "      <td>True</td>\n",
       "    </tr>\n",
       "    <tr>\n",
       "      <th>47</th>\n",
       "      <td>55000.00</td>\n",
       "      <td>235426.92</td>\n",
       "      <td>50000.00</td>\n",
       "      <td>True</td>\n",
       "      <td>False</td>\n",
       "      <td>False</td>\n",
       "    </tr>\n",
       "    <tr>\n",
       "      <th>28</th>\n",
       "      <td>121051.52</td>\n",
       "      <td>282645.56</td>\n",
       "      <td>168148.20</td>\n",
       "      <td>False</td>\n",
       "      <td>False</td>\n",
       "      <td>True</td>\n",
       "    </tr>\n",
       "    <tr>\n",
       "      <th>9</th>\n",
       "      <td>178334.88</td>\n",
       "      <td>208679.17</td>\n",
       "      <td>354981.62</td>\n",
       "      <td>True</td>\n",
       "      <td>False</td>\n",
       "      <td>False</td>\n",
       "    </tr>\n",
       "    <tr>\n",
       "      <th>13</th>\n",
       "      <td>146992.39</td>\n",
       "      <td>235495.07</td>\n",
       "      <td>302664.93</td>\n",
       "      <td>True</td>\n",
       "      <td>False</td>\n",
       "      <td>False</td>\n",
       "    </tr>\n",
       "  </tbody>\n",
       "</table>\n",
       "</div>"
      ],
      "text/plain": [
       "    Productivity_Exp  Management_Exp  Promotions_Exp  State_Illinois  \\\n",
       "36          83663.76       227056.21       251126.82           False   \n",
       "47          55000.00       235426.92        50000.00            True   \n",
       "28         121051.52       282645.56       168148.20           False   \n",
       "9          178334.88       208679.17       354981.62            True   \n",
       "13         146992.39       235495.07       302664.93            True   \n",
       "\n",
       "    State_Texas  State_Washington  \n",
       "36        False              True  \n",
       "47        False             False  \n",
       "28        False              True  \n",
       "9         False             False  \n",
       "13        False             False  "
      ]
     },
     "execution_count": 153,
     "metadata": {},
     "output_type": "execute_result"
    }
   ],
   "source": [
    "X_test.head()"
   ]
  },
  {
   "cell_type": "code",
   "execution_count": 154,
   "id": "ddd3a727-5c1b-468e-bb24-47e1f08cf103",
   "metadata": {},
   "outputs": [
    {
     "data": {
      "text/html": [
       "<div>\n",
       "<style scoped>\n",
       "    .dataframe tbody tr th:only-of-type {\n",
       "        vertical-align: middle;\n",
       "    }\n",
       "\n",
       "    .dataframe tbody tr th {\n",
       "        vertical-align: top;\n",
       "    }\n",
       "\n",
       "    .dataframe thead th {\n",
       "        text-align: right;\n",
       "    }\n",
       "</style>\n",
       "<table border=\"1\" class=\"dataframe\">\n",
       "  <thead>\n",
       "    <tr style=\"text-align: right;\">\n",
       "      <th></th>\n",
       "      <th>Profit</th>\n",
       "    </tr>\n",
       "  </thead>\n",
       "  <tbody>\n",
       "    <tr>\n",
       "      <th>24</th>\n",
       "      <td>158552.04</td>\n",
       "    </tr>\n",
       "    <tr>\n",
       "      <th>48</th>\n",
       "      <td>85673.41</td>\n",
       "    </tr>\n",
       "    <tr>\n",
       "      <th>17</th>\n",
       "      <td>175370.37</td>\n",
       "    </tr>\n",
       "    <tr>\n",
       "      <th>12</th>\n",
       "      <td>191585.52</td>\n",
       "    </tr>\n",
       "    <tr>\n",
       "      <th>27</th>\n",
       "      <td>155008.31</td>\n",
       "    </tr>\n",
       "  </tbody>\n",
       "</table>\n",
       "</div>"
      ],
      "text/plain": [
       "       Profit\n",
       "24  158552.04\n",
       "48   85673.41\n",
       "17  175370.37\n",
       "12  191585.52\n",
       "27  155008.31"
      ]
     },
     "execution_count": 154,
     "metadata": {},
     "output_type": "execute_result"
    }
   ],
   "source": [
    "y_train.head()"
   ]
  },
  {
   "cell_type": "code",
   "execution_count": 155,
   "id": "4955cab5-247e-4037-886b-4ce251680d88",
   "metadata": {},
   "outputs": [
    {
     "data": {
      "text/html": [
       "<div>\n",
       "<style scoped>\n",
       "    .dataframe tbody tr th:only-of-type {\n",
       "        vertical-align: middle;\n",
       "    }\n",
       "\n",
       "    .dataframe tbody tr th {\n",
       "        vertical-align: top;\n",
       "    }\n",
       "\n",
       "    .dataframe thead th {\n",
       "        text-align: right;\n",
       "    }\n",
       "</style>\n",
       "<table border=\"1\" class=\"dataframe\">\n",
       "  <thead>\n",
       "    <tr style=\"text-align: right;\">\n",
       "      <th></th>\n",
       "      <th>Profit</th>\n",
       "    </tr>\n",
       "  </thead>\n",
       "  <tbody>\n",
       "    <tr>\n",
       "      <th>36</th>\n",
       "      <td>140708.19</td>\n",
       "    </tr>\n",
       "    <tr>\n",
       "      <th>47</th>\n",
       "      <td>92559.73</td>\n",
       "    </tr>\n",
       "    <tr>\n",
       "      <th>28</th>\n",
       "      <td>153282.38</td>\n",
       "    </tr>\n",
       "    <tr>\n",
       "      <th>9</th>\n",
       "      <td>199759.96</td>\n",
       "    </tr>\n",
       "    <tr>\n",
       "      <th>13</th>\n",
       "      <td>184307.35</td>\n",
       "    </tr>\n",
       "  </tbody>\n",
       "</table>\n",
       "</div>"
      ],
      "text/plain": [
       "       Profit\n",
       "36  140708.19\n",
       "47   92559.73\n",
       "28  153282.38\n",
       "9   199759.96\n",
       "13  184307.35"
      ]
     },
     "execution_count": 155,
     "metadata": {},
     "output_type": "execute_result"
    }
   ],
   "source": [
    "y_test.head()"
   ]
  },
  {
   "cell_type": "code",
   "execution_count": 156,
   "id": "ff5cb9b4-db44-44f0-8094-c355363382db",
   "metadata": {},
   "outputs": [
    {
     "data": {
      "text/plain": [
       "(40, 6)"
      ]
     },
     "execution_count": 156,
     "metadata": {},
     "output_type": "execute_result"
    }
   ],
   "source": [
    "X_train.shape"
   ]
  },
  {
   "cell_type": "code",
   "execution_count": 157,
   "id": "07cd34c9-0515-4d9a-805a-09160adc8bf8",
   "metadata": {},
   "outputs": [
    {
     "data": {
      "text/plain": [
       "(10, 6)"
      ]
     },
     "execution_count": 157,
     "metadata": {},
     "output_type": "execute_result"
    }
   ],
   "source": [
    "X_test.shape"
   ]
  },
  {
   "cell_type": "code",
   "execution_count": 158,
   "id": "9d714c1a-8c2a-4694-b9cc-78dc3e0923ef",
   "metadata": {},
   "outputs": [
    {
     "data": {
      "text/plain": [
       "(40, 1)"
      ]
     },
     "execution_count": 158,
     "metadata": {},
     "output_type": "execute_result"
    }
   ],
   "source": [
    "y_train.shape"
   ]
  },
  {
   "cell_type": "code",
   "execution_count": 159,
   "id": "419ebb3d-5118-4256-9904-2794d94072a7",
   "metadata": {},
   "outputs": [
    {
     "data": {
      "text/plain": [
       "(10, 1)"
      ]
     },
     "execution_count": 159,
     "metadata": {},
     "output_type": "execute_result"
    }
   ],
   "source": [
    "y_test.shape"
   ]
  },
  {
   "cell_type": "markdown",
   "id": "feecb993-efbb-4cf6-bc93-ef69cf8f9583",
   "metadata": {},
   "source": [
    "### Importing the LinearRegression"
   ]
  },
  {
   "cell_type": "markdown",
   "id": "ecacb5e8-3372-4a50-87a7-f3efe50b98fc",
   "metadata": {},
   "source": [
    "##### Linear regression is a statistical method used to model the relationship between a dependent variable and one or more independent variables. It assumes that there is a linear relationship between the independent variable(s) and the dependent variable."
   ]
  },
  {
   "cell_type": "code",
   "execution_count": 160,
   "id": "1a4455aa-a7f9-447a-b699-8c1dcd8439d5",
   "metadata": {},
   "outputs": [],
   "source": [
    "from sklearn.linear_model import LinearRegression\n",
    "l=LinearRegression()"
   ]
  },
  {
   "cell_type": "code",
   "execution_count": 161,
   "id": "2c03d000-57d2-43e6-9952-e8222e6f8a9b",
   "metadata": {},
   "outputs": [
    {
     "data": {
      "text/html": [
       "<div>\n",
       "<style scoped>\n",
       "    .dataframe tbody tr th:only-of-type {\n",
       "        vertical-align: middle;\n",
       "    }\n",
       "\n",
       "    .dataframe tbody tr th {\n",
       "        vertical-align: top;\n",
       "    }\n",
       "\n",
       "    .dataframe thead th {\n",
       "        text-align: right;\n",
       "    }\n",
       "</style>\n",
       "<table border=\"1\" class=\"dataframe\">\n",
       "  <thead>\n",
       "    <tr style=\"text-align: right;\">\n",
       "      <th></th>\n",
       "      <th>Productivity_Exp</th>\n",
       "      <th>Management_Exp</th>\n",
       "      <th>Promotions_Exp</th>\n",
       "      <th>State_Illinois</th>\n",
       "      <th>State_Texas</th>\n",
       "      <th>State_Washington</th>\n",
       "    </tr>\n",
       "  </thead>\n",
       "  <tbody>\n",
       "    <tr>\n",
       "      <th>24</th>\n",
       "      <td>132044.01</td>\n",
       "      <td>199281.34</td>\n",
       "      <td>190574.81</td>\n",
       "      <td>False</td>\n",
       "      <td>True</td>\n",
       "      <td>False</td>\n",
       "    </tr>\n",
       "    <tr>\n",
       "      <th>48</th>\n",
       "      <td>55542.05</td>\n",
       "      <td>151743.15</td>\n",
       "      <td>50000.00</td>\n",
       "      <td>False</td>\n",
       "      <td>True</td>\n",
       "      <td>False</td>\n",
       "    </tr>\n",
       "    <tr>\n",
       "      <th>17</th>\n",
       "      <td>149657.16</td>\n",
       "      <td>245077.58</td>\n",
       "      <td>332574.31</td>\n",
       "      <td>False</td>\n",
       "      <td>True</td>\n",
       "      <td>False</td>\n",
       "    </tr>\n",
       "    <tr>\n",
       "      <th>12</th>\n",
       "      <td>148863.75</td>\n",
       "      <td>227320.38</td>\n",
       "      <td>299839.44</td>\n",
       "      <td>False</td>\n",
       "      <td>False</td>\n",
       "      <td>True</td>\n",
       "    </tr>\n",
       "    <tr>\n",
       "      <th>27</th>\n",
       "      <td>127107.60</td>\n",
       "      <td>227864.55</td>\n",
       "      <td>403183.81</td>\n",
       "      <td>False</td>\n",
       "      <td>True</td>\n",
       "      <td>False</td>\n",
       "    </tr>\n",
       "  </tbody>\n",
       "</table>\n",
       "</div>"
      ],
      "text/plain": [
       "    Productivity_Exp  Management_Exp  Promotions_Exp  State_Illinois  \\\n",
       "24         132044.01       199281.34       190574.81           False   \n",
       "48          55542.05       151743.15        50000.00           False   \n",
       "17         149657.16       245077.58       332574.31           False   \n",
       "12         148863.75       227320.38       299839.44           False   \n",
       "27         127107.60       227864.55       403183.81           False   \n",
       "\n",
       "    State_Texas  State_Washington  \n",
       "24         True             False  \n",
       "48         True             False  \n",
       "17         True             False  \n",
       "12        False              True  \n",
       "27         True             False  "
      ]
     },
     "execution_count": 161,
     "metadata": {},
     "output_type": "execute_result"
    }
   ],
   "source": [
    "X_train.head()"
   ]
  },
  {
   "cell_type": "code",
   "execution_count": 162,
   "id": "7c08e4ad-ebf5-4c2b-b0f0-18149d44340c",
   "metadata": {},
   "outputs": [
    {
     "data": {
      "text/html": [
       "<div>\n",
       "<style scoped>\n",
       "    .dataframe tbody tr th:only-of-type {\n",
       "        vertical-align: middle;\n",
       "    }\n",
       "\n",
       "    .dataframe tbody tr th {\n",
       "        vertical-align: top;\n",
       "    }\n",
       "\n",
       "    .dataframe thead th {\n",
       "        text-align: right;\n",
       "    }\n",
       "</style>\n",
       "<table border=\"1\" class=\"dataframe\">\n",
       "  <thead>\n",
       "    <tr style=\"text-align: right;\">\n",
       "      <th></th>\n",
       "      <th>Profit</th>\n",
       "    </tr>\n",
       "  </thead>\n",
       "  <tbody>\n",
       "    <tr>\n",
       "      <th>24</th>\n",
       "      <td>158552.04</td>\n",
       "    </tr>\n",
       "    <tr>\n",
       "      <th>48</th>\n",
       "      <td>85673.41</td>\n",
       "    </tr>\n",
       "    <tr>\n",
       "      <th>17</th>\n",
       "      <td>175370.37</td>\n",
       "    </tr>\n",
       "    <tr>\n",
       "      <th>12</th>\n",
       "      <td>191585.52</td>\n",
       "    </tr>\n",
       "    <tr>\n",
       "      <th>27</th>\n",
       "      <td>155008.31</td>\n",
       "    </tr>\n",
       "  </tbody>\n",
       "</table>\n",
       "</div>"
      ],
      "text/plain": [
       "       Profit\n",
       "24  158552.04\n",
       "48   85673.41\n",
       "17  175370.37\n",
       "12  191585.52\n",
       "27  155008.31"
      ]
     },
     "execution_count": 162,
     "metadata": {},
     "output_type": "execute_result"
    }
   ],
   "source": [
    "y_train.head()"
   ]
  },
  {
   "cell_type": "markdown",
   "id": "56f6b4c4-6bcb-4318-bcce-28e1e033a59d",
   "metadata": {},
   "source": [
    "### Fit"
   ]
  },
  {
   "cell_type": "code",
   "execution_count": 163,
   "id": "df0a446d-d1ba-4f2d-8d87-fd00ac000004",
   "metadata": {},
   "outputs": [
    {
     "data": {
      "text/html": [
       "<style>#sk-container-id-5 {color: black;background-color: white;}#sk-container-id-5 pre{padding: 0;}#sk-container-id-5 div.sk-toggleable {background-color: white;}#sk-container-id-5 label.sk-toggleable__label {cursor: pointer;display: block;width: 100%;margin-bottom: 0;padding: 0.3em;box-sizing: border-box;text-align: center;}#sk-container-id-5 label.sk-toggleable__label-arrow:before {content: \"▸\";float: left;margin-right: 0.25em;color: #696969;}#sk-container-id-5 label.sk-toggleable__label-arrow:hover:before {color: black;}#sk-container-id-5 div.sk-estimator:hover label.sk-toggleable__label-arrow:before {color: black;}#sk-container-id-5 div.sk-toggleable__content {max-height: 0;max-width: 0;overflow: hidden;text-align: left;background-color: #f0f8ff;}#sk-container-id-5 div.sk-toggleable__content pre {margin: 0.2em;color: black;border-radius: 0.25em;background-color: #f0f8ff;}#sk-container-id-5 input.sk-toggleable__control:checked~div.sk-toggleable__content {max-height: 200px;max-width: 100%;overflow: auto;}#sk-container-id-5 input.sk-toggleable__control:checked~label.sk-toggleable__label-arrow:before {content: \"▾\";}#sk-container-id-5 div.sk-estimator input.sk-toggleable__control:checked~label.sk-toggleable__label {background-color: #d4ebff;}#sk-container-id-5 div.sk-label input.sk-toggleable__control:checked~label.sk-toggleable__label {background-color: #d4ebff;}#sk-container-id-5 input.sk-hidden--visually {border: 0;clip: rect(1px 1px 1px 1px);clip: rect(1px, 1px, 1px, 1px);height: 1px;margin: -1px;overflow: hidden;padding: 0;position: absolute;width: 1px;}#sk-container-id-5 div.sk-estimator {font-family: monospace;background-color: #f0f8ff;border: 1px dotted black;border-radius: 0.25em;box-sizing: border-box;margin-bottom: 0.5em;}#sk-container-id-5 div.sk-estimator:hover {background-color: #d4ebff;}#sk-container-id-5 div.sk-parallel-item::after {content: \"\";width: 100%;border-bottom: 1px solid gray;flex-grow: 1;}#sk-container-id-5 div.sk-label:hover label.sk-toggleable__label {background-color: #d4ebff;}#sk-container-id-5 div.sk-serial::before {content: \"\";position: absolute;border-left: 1px solid gray;box-sizing: border-box;top: 0;bottom: 0;left: 50%;z-index: 0;}#sk-container-id-5 div.sk-serial {display: flex;flex-direction: column;align-items: center;background-color: white;padding-right: 0.2em;padding-left: 0.2em;position: relative;}#sk-container-id-5 div.sk-item {position: relative;z-index: 1;}#sk-container-id-5 div.sk-parallel {display: flex;align-items: stretch;justify-content: center;background-color: white;position: relative;}#sk-container-id-5 div.sk-item::before, #sk-container-id-5 div.sk-parallel-item::before {content: \"\";position: absolute;border-left: 1px solid gray;box-sizing: border-box;top: 0;bottom: 0;left: 50%;z-index: -1;}#sk-container-id-5 div.sk-parallel-item {display: flex;flex-direction: column;z-index: 1;position: relative;background-color: white;}#sk-container-id-5 div.sk-parallel-item:first-child::after {align-self: flex-end;width: 50%;}#sk-container-id-5 div.sk-parallel-item:last-child::after {align-self: flex-start;width: 50%;}#sk-container-id-5 div.sk-parallel-item:only-child::after {width: 0;}#sk-container-id-5 div.sk-dashed-wrapped {border: 1px dashed gray;margin: 0 0.4em 0.5em 0.4em;box-sizing: border-box;padding-bottom: 0.4em;background-color: white;}#sk-container-id-5 div.sk-label label {font-family: monospace;font-weight: bold;display: inline-block;line-height: 1.2em;}#sk-container-id-5 div.sk-label-container {text-align: center;}#sk-container-id-5 div.sk-container {/* jupyter's `normalize.less` sets `[hidden] { display: none; }` but bootstrap.min.css set `[hidden] { display: none !important; }` so we also need the `!important` here to be able to override the default hidden behavior on the sphinx rendered scikit-learn.org. See: https://github.com/scikit-learn/scikit-learn/issues/21755 */display: inline-block !important;position: relative;}#sk-container-id-5 div.sk-text-repr-fallback {display: none;}</style><div id=\"sk-container-id-5\" class=\"sk-top-container\"><div class=\"sk-text-repr-fallback\"><pre>LinearRegression()</pre><b>In a Jupyter environment, please rerun this cell to show the HTML representation or trust the notebook. <br />On GitHub, the HTML representation is unable to render, please try loading this page with nbviewer.org.</b></div><div class=\"sk-container\" hidden><div class=\"sk-item\"><div class=\"sk-estimator sk-toggleable\"><input class=\"sk-toggleable__control sk-hidden--visually\" id=\"sk-estimator-id-5\" type=\"checkbox\" checked><label for=\"sk-estimator-id-5\" class=\"sk-toggleable__label sk-toggleable__label-arrow\">LinearRegression</label><div class=\"sk-toggleable__content\"><pre>LinearRegression()</pre></div></div></div></div></div>"
      ],
      "text/plain": [
       "LinearRegression()"
      ]
     },
     "execution_count": 163,
     "metadata": {},
     "output_type": "execute_result"
    }
   ],
   "source": [
    "l.fit(X_train,y_train)"
   ]
  },
  {
   "cell_type": "code",
   "execution_count": 164,
   "id": "7185590f-74e3-43d8-b4da-1c1ef503df0a",
   "metadata": {},
   "outputs": [
    {
     "data": {
      "text/html": [
       "<div>\n",
       "<style scoped>\n",
       "    .dataframe tbody tr th:only-of-type {\n",
       "        vertical-align: middle;\n",
       "    }\n",
       "\n",
       "    .dataframe tbody tr th {\n",
       "        vertical-align: top;\n",
       "    }\n",
       "\n",
       "    .dataframe thead th {\n",
       "        text-align: right;\n",
       "    }\n",
       "</style>\n",
       "<table border=\"1\" class=\"dataframe\">\n",
       "  <thead>\n",
       "    <tr style=\"text-align: right;\">\n",
       "      <th></th>\n",
       "      <th>Productivity_Exp</th>\n",
       "      <th>Management_Exp</th>\n",
       "      <th>Promotions_Exp</th>\n",
       "      <th>State_Illinois</th>\n",
       "      <th>State_Texas</th>\n",
       "      <th>State_Washington</th>\n",
       "    </tr>\n",
       "  </thead>\n",
       "  <tbody>\n",
       "    <tr>\n",
       "      <th>36</th>\n",
       "      <td>83663.76</td>\n",
       "      <td>227056.21</td>\n",
       "      <td>251126.82</td>\n",
       "      <td>False</td>\n",
       "      <td>False</td>\n",
       "      <td>True</td>\n",
       "    </tr>\n",
       "    <tr>\n",
       "      <th>47</th>\n",
       "      <td>55000.00</td>\n",
       "      <td>235426.92</td>\n",
       "      <td>50000.00</td>\n",
       "      <td>True</td>\n",
       "      <td>False</td>\n",
       "      <td>False</td>\n",
       "    </tr>\n",
       "    <tr>\n",
       "      <th>28</th>\n",
       "      <td>121051.52</td>\n",
       "      <td>282645.56</td>\n",
       "      <td>168148.20</td>\n",
       "      <td>False</td>\n",
       "      <td>False</td>\n",
       "      <td>True</td>\n",
       "    </tr>\n",
       "    <tr>\n",
       "      <th>9</th>\n",
       "      <td>178334.88</td>\n",
       "      <td>208679.17</td>\n",
       "      <td>354981.62</td>\n",
       "      <td>True</td>\n",
       "      <td>False</td>\n",
       "      <td>False</td>\n",
       "    </tr>\n",
       "    <tr>\n",
       "      <th>13</th>\n",
       "      <td>146992.39</td>\n",
       "      <td>235495.07</td>\n",
       "      <td>302664.93</td>\n",
       "      <td>True</td>\n",
       "      <td>False</td>\n",
       "      <td>False</td>\n",
       "    </tr>\n",
       "  </tbody>\n",
       "</table>\n",
       "</div>"
      ],
      "text/plain": [
       "    Productivity_Exp  Management_Exp  Promotions_Exp  State_Illinois  \\\n",
       "36          83663.76       227056.21       251126.82           False   \n",
       "47          55000.00       235426.92        50000.00            True   \n",
       "28         121051.52       282645.56       168148.20           False   \n",
       "9          178334.88       208679.17       354981.62            True   \n",
       "13         146992.39       235495.07       302664.93            True   \n",
       "\n",
       "    State_Texas  State_Washington  \n",
       "36        False              True  \n",
       "47        False             False  \n",
       "28        False              True  \n",
       "9         False             False  \n",
       "13        False             False  "
      ]
     },
     "execution_count": 164,
     "metadata": {},
     "output_type": "execute_result"
    }
   ],
   "source": [
    "X_test.head()"
   ]
  },
  {
   "cell_type": "code",
   "execution_count": 165,
   "id": "064b3a5a-ff6b-4451-867b-c4672a50e96e",
   "metadata": {},
   "outputs": [
    {
     "data": {
      "text/plain": [
       "array([[ 8.13230566e-01, -4.65775420e-02,  2.69909892e-02,\n",
       "         4.84394340e+02,  1.07909284e+02, -5.92303625e+02]])"
      ]
     },
     "execution_count": 165,
     "metadata": {},
     "output_type": "execute_result"
    }
   ],
   "source": [
    "l.coef_"
   ]
  },
  {
   "cell_type": "code",
   "execution_count": 166,
   "id": "9f0730fb-b8e4-45c7-ae07-4c3714f562e2",
   "metadata": {},
   "outputs": [
    {
     "data": {
      "text/plain": [
       "array([[104934.73902582]])"
      ]
     },
     "execution_count": 166,
     "metadata": {},
     "output_type": "execute_result"
    }
   ],
   "source": [
    "l.predict([[56315,215816.61,347114,0,0,1]])"
   ]
  },
  {
   "cell_type": "code",
   "execution_count": 167,
   "id": "da2f678d-4dbe-4f98-906b-5d64e86c3732",
   "metadata": {},
   "outputs": [
    {
     "data": {
      "text/html": [
       "<div>\n",
       "<style scoped>\n",
       "    .dataframe tbody tr th:only-of-type {\n",
       "        vertical-align: middle;\n",
       "    }\n",
       "\n",
       "    .dataframe tbody tr th {\n",
       "        vertical-align: top;\n",
       "    }\n",
       "\n",
       "    .dataframe thead th {\n",
       "        text-align: right;\n",
       "    }\n",
       "</style>\n",
       "<table border=\"1\" class=\"dataframe\">\n",
       "  <thead>\n",
       "    <tr style=\"text-align: right;\">\n",
       "      <th></th>\n",
       "      <th>Profit</th>\n",
       "    </tr>\n",
       "  </thead>\n",
       "  <tbody>\n",
       "    <tr>\n",
       "      <th>36</th>\n",
       "      <td>140708.19</td>\n",
       "    </tr>\n",
       "    <tr>\n",
       "      <th>47</th>\n",
       "      <td>92559.73</td>\n",
       "    </tr>\n",
       "    <tr>\n",
       "      <th>28</th>\n",
       "      <td>153282.38</td>\n",
       "    </tr>\n",
       "    <tr>\n",
       "      <th>9</th>\n",
       "      <td>199759.96</td>\n",
       "    </tr>\n",
       "    <tr>\n",
       "      <th>13</th>\n",
       "      <td>184307.35</td>\n",
       "    </tr>\n",
       "  </tbody>\n",
       "</table>\n",
       "</div>"
      ],
      "text/plain": [
       "       Profit\n",
       "36  140708.19\n",
       "47   92559.73\n",
       "28  153282.38\n",
       "9   199759.96\n",
       "13  184307.35"
      ]
     },
     "execution_count": 167,
     "metadata": {},
     "output_type": "execute_result"
    }
   ],
   "source": [
    "y_test.head()"
   ]
  },
  {
   "cell_type": "markdown",
   "id": "477ef5e9-d646-401d-8c4b-c6759ef9ece8",
   "metadata": {},
   "source": [
    "### Model Evaluation"
   ]
  },
  {
   "cell_type": "code",
   "execution_count": 168,
   "id": "c2f8a50a-c815-4fc6-94f2-ebf6d2691851",
   "metadata": {},
   "outputs": [],
   "source": [
    "from sklearn.metrics import mean_absolute_error,mean_squared_error,r2_score"
   ]
  },
  {
   "cell_type": "code",
   "execution_count": 169,
   "id": "c91d664f-a79f-4425-a1f8-2bccb11310e4",
   "metadata": {},
   "outputs": [
    {
     "data": {
      "text/plain": [
       "array([[124061.28471146],\n",
       "       [ 96009.23798771],\n",
       "       [149637.26360778],\n",
       "       [205786.53229364],\n",
       "       [177636.76349543],\n",
       "       [242765.18597815],\n",
       "       [113906.99972437],\n",
       "       [104935.14415875],\n",
       "       [134532.35238001],\n",
       "       [159460.29711996]])"
      ]
     },
     "execution_count": 169,
     "metadata": {},
     "output_type": "execute_result"
    }
   ],
   "source": [
    "y_pred=l.predict(X_test)\n",
    "y_pred"
   ]
  },
  {
   "cell_type": "code",
   "execution_count": 170,
   "id": "7f6f0e6f-83ba-436d-85f0-9e328f863050",
   "metadata": {},
   "outputs": [
    {
     "data": {
      "text/plain": [
       "array([[140708.19],\n",
       "       [ 92559.73],\n",
       "       [153282.38],\n",
       "       [199759.96],\n",
       "       [184307.35],\n",
       "       [242261.83],\n",
       "       [115200.33],\n",
       "       [ 99490.75],\n",
       "       [131005.76],\n",
       "       [158733.99]])"
      ]
     },
     "execution_count": 170,
     "metadata": {},
     "output_type": "execute_result"
    }
   ],
   "source": [
    "y_test.values"
   ]
  },
  {
   "cell_type": "code",
   "execution_count": 171,
   "id": "64ef1d74-2c6b-4913-a4b2-e2451628ff9f",
   "metadata": {},
   "outputs": [
    {
     "data": {
      "text/plain": [
       "[<matplotlib.lines.Line2D at 0x17165fb9810>]"
      ]
     },
     "execution_count": 171,
     "metadata": {},
     "output_type": "execute_result"
    },
    {
     "data": {
      "image/png": "[encoded data removed]",
      "text/plain": [
       "<Figure size 640x480 with 1 Axes>"
      ]
     },
     "metadata": {},
     "output_type": "display_data"
    }
   ],
   "source": [
    "x=company['Productivity_Exp'].values.reshape(-1,1)\n",
    "y=company['Profit'].values\n",
    "l=LinearRegression()\n",
    "l.fit(x,y)\n",
    "plt.scatter(company['Productivity_Exp'],company['Profit'])\n",
    "plt.plot(x,l.predict(x),color='red')"
   ]
  },
  {
   "cell_type": "markdown",
   "id": "2d2552ac-1575-47a8-ad35-954cebd7b808",
   "metadata": {},
   "source": [
    "#### MAE"
   ]
  },
  {
   "cell_type": "code",
   "execution_count": 172,
   "id": "2109d121-a345-4a6f-a8c5-f41b7fd9eaaa",
   "metadata": {},
   "outputs": [
    {
     "data": {
      "text/plain": [
       "4793.2668379191"
      ]
     },
     "execution_count": 172,
     "metadata": {},
     "output_type": "execute_result"
    }
   ],
   "source": [
    "mean_absolute_error(y_test,y_pred)"
   ]
  },
  {
   "cell_type": "markdown",
   "id": "7ab41b85-dc6e-449d-8aa7-a9e350116fa5",
   "metadata": {},
   "source": [
    "#### MSE"
   ]
  },
  {
   "cell_type": "code",
   "execution_count": 173,
   "id": "d18ce41f-4abd-4d45-b482-f5b61f1f6588",
   "metadata": {},
   "outputs": [
    {
     "data": {
      "text/plain": [
       "42765360.65268925"
      ]
     },
     "execution_count": 173,
     "metadata": {},
     "output_type": "execute_result"
    }
   ],
   "source": [
    "mean_squared_error(y_test,y_pred)"
   ]
  },
  {
   "cell_type": "markdown",
   "id": "c4f9f972-a2cf-42ad-ba41-b18ed5876973",
   "metadata": {},
   "source": [
    "### RMSE"
   ]
  },
  {
   "cell_type": "code",
   "execution_count": 174,
   "id": "7df9ffd8-2788-468f-bb86-a8c4c083c58f",
   "metadata": {},
   "outputs": [],
   "source": [
    "import pandas as pd\n",
    "from sklearn.metrics import mean_squared_error"
   ]
  },
  {
   "cell_type": "code",
   "execution_count": 175,
   "id": "c8b7576a-67f0-45f9-886d-5df8be3c0636",
   "metadata": {},
   "outputs": [
    {
     "data": {
      "text/plain": [
       "4793.2668379191"
      ]
     },
     "execution_count": 175,
     "metadata": {},
     "output_type": "execute_result"
    }
   ],
   "source": [
    "mean_absolute_error(y_test,y_pred)"
   ]
  },
  {
   "cell_type": "code",
   "execution_count": 176,
   "id": "463c9e0b-fa31-4fc2-9489-75404daee569",
   "metadata": {},
   "outputs": [
    {
     "data": {
      "text/plain": [
       "42765360.65268925"
      ]
     },
     "execution_count": 176,
     "metadata": {},
     "output_type": "execute_result"
    }
   ],
   "source": [
    "mean_squared_error(y_test,y_pred)"
   ]
  },
  {
   "cell_type": "code",
   "execution_count": 177,
   "id": "e49c7e12-e8aa-40b8-a966-0b2505263fee",
   "metadata": {},
   "outputs": [
    {
     "data": {
      "image/png": "[encoded data removed]",
      "text/plain": [
       "<Figure size 1000x600 with 1 Axes>"
      ]
     },
     "metadata": {},
     "output_type": "display_data"
    }
   ],
   "source": [
    "plt.figure(figsize=(10,6))\n",
    "plt.scatter(y_test,y_pred)\n",
    "plt.plot([y_test.min(),y_test.max()],[y_test.min(),y_test.max()],'red')\n",
    "plt.xlabel('Actual Profit')\n",
    "plt.ylabel('Predicted Profit')\n",
    "plt.title('Actual vs Predicted Profit')\n",
    "plt.show()"
   ]
  },
  {
   "cell_type": "markdown",
   "id": "8c76ad4f-ebad-4b21-9d2b-99110a56b883",
   "metadata": {},
   "source": [
    "#### Result:\n",
    "##### The actual profit and predicted profit is almost equal."
   ]
  },
  {
   "cell_type": "markdown",
   "id": "9c798116-45b3-43d6-8411-cda4cfd6de0b",
   "metadata": {},
   "source": [
    "### Conclusion"
   ]
  },
  {
   "cell_type": "markdown",
   "id": "455931ea-4fbb-4d71-b638-ab39510ecd03",
   "metadata": {},
   "source": [
    "##### The goal of this analysis is to build a predictive model that can accurately forecast a company's profit based on its expenditures in productivity,management and promotions, as well as its state of operation."
   ]
  },
  {
   "cell_type": "markdown",
   "id": "ac692659-e5d2-4c6d-a800-556feed9eff0",
   "metadata": {},
   "source": [
    "### Insights"
   ]
  },
  {
   "cell_type": "markdown",
   "id": "a30ab2b6-225f-453f-9b37-2309cc8fa635",
   "metadata": {},
   "source": [
    "##### 1)Gather the data on various types of expenditures and profits, along with state information.\n",
    "##### 2)Analyze how different expenditure types affect profit.\n",
    "##### 3)Identify which states contribute most to the company’s profitability.\n",
    "##### 4)Understand how expenditures interact and influence profit across different states.\n",
    "##### 5)Certain states may consistently show higher profitability.\n",
    "##### 6)Expenditure strategies by state to maximize local profitability, such as focusing marketing efforts in states.\n",
    "##### 7)The model can predict future profit based on planned expenditures.\n",
    "##### 8)Different states may require different business approaches based on their unique economic.\n",
    "##### 9)While productivity expenditure increases profit also simultaneously increases.\n",
    "##### 10)Different expenditure levels and allocations impact profit can help in planning various business."
   ]
  }
 ],
 "metadata": {
  "kernelspec": {
   "display_name": "Python 3 (ipykernel)",
   "language": "python",
   "name": "python3"
  },
  "language_info": {
   "codemirror_mode": {
    "name": "ipython",
    "version": 3
   },
   "file_extension": ".py",
   "mimetype": "text/x-python",
   "name": "python",
   "nbconvert_exporter": "python",
   "pygments_lexer": "ipython3",
   "version": "3.11.7"
  }
 },
 "nbformat": 4,
 "nbformat_minor": 5
}
